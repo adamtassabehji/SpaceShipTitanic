{
 "cells": [
  {
   "cell_type": "markdown",
   "metadata": {},
   "source": [
    "# Spaceship Titanic"
   ]
  },
  {
   "cell_type": "markdown",
   "metadata": {},
   "source": [
    "**Project Brief**\n",
    "\n",
    "Welcome to the year 2912, where your data science skills are needed to solve a cosmic mystery. We've received a transmission from four lightyears away and things aren't looking good.\n",
    "\n",
    "The Spaceship Titanic was an interstellar passenger liner launched a month ago. With almost 13,000 passengers on board, the vessel set out on its maiden voyage transporting emigrants from our solar system to three newly habitable exoplanets orbiting nearby stars.\n",
    "\n",
    "While rounding Alpha Centauri en route to its first destination—the torrid 55 Cancri E—the unwary Spaceship Titanic collided with a spacetime anomaly hidden within a dust cloud. Sadly, it met a similar fate as its namesake from 1000 years before. Though the ship stayed intact, almost half of the passengers were transported to an alternate dimension!\n",
    "\n",
    "To help rescue crews and retrieve the lost passengers, you are challenged to predict which passengers were transported by the anomaly using records recovered from the spaceship’s damaged computer system.\n",
    "\n",
    "Help save them and change history!"
   ]
  },
  {
   "cell_type": "markdown",
   "metadata": {},
   "source": [
    "**Variables:**\n",
    "\n",
    "PassengerId - A unique Id for each passenger. Each Id takes the form gggg_pp where gggg indicates a group the passenger is travelling with and pp is their number within the group. People in a group are often family members, but not always.\n",
    "\n",
    "HomePlanet - The planet the passenger departed from, typically their planet of permanent residence.\n",
    "\n",
    "CryoSleep - Indicates whether the passenger elected to be put into suspended animation for the duration of the voyage. Passengers in cryosleep are confined to their cabins.\n",
    "\n",
    "Cabin - The cabin number where the passenger is staying. Takes the form deck/num/side, where side can be either P for Port or S for Starboard.\n",
    "\n",
    "Destination - The planet the passenger will be debarking to.\n",
    "\n",
    "Age - The age of the passenger.\n",
    "\n",
    "VIP - Whether the passenger has paid for special VIP service during the voyage.\n",
    "\n",
    "RoomService, FoodCourt, ShoppingMall, Spa, VRDeck - Amount the passenger has billed at each of the Spaceship Titanic's many luxury amenities.\n",
    "\n",
    "Name - The first and last names of the passenger.\n",
    "\n",
    "Transported - Whether the passenger was transported to another dimension. This is the target, the column you are trying to predict."
   ]
  },
  {
   "cell_type": "markdown",
   "metadata": {},
   "source": [
    "**To be Continued:**\n",
    "\n",
    "- Exploring different imputations for missing data (KNN)\n",
    "- Constructing a pipeline\n",
    "- Tidying up the notebook and better annotation"
   ]
  },
  {
   "cell_type": "markdown",
   "metadata": {},
   "source": [
    "## 1. Importing Packages & Data"
   ]
  },
  {
   "cell_type": "code",
   "execution_count": 1009,
   "metadata": {},
   "outputs": [],
   "source": [
    "## Importing relevant packages\n",
    "\n",
    "\n",
    "import pandas as pd\n",
    "import plotly.express as px\n",
    "import numpy as np\n",
    "import tensorflow as tf\n",
    "from tensorflow.keras import layers\n",
    "\n",
    "import math\n",
    "\n",
    "from sklearn.preprocessing import StandardScaler\n",
    "from sklearn.model_selection import train_test_split\n",
    "\n",
    "from sklearn import metrics\n",
    "from sklearn.metrics import confusion_matrix\n",
    "from sklearn.metrics import accuracy_score\n",
    "from sklearn.metrics import r2_score\n",
    "from mlxtend.feature_selection import SequentialFeatureSelector as SFS\n",
    "from sklearn.model_selection import RandomizedSearchCV\n",
    "from collinearity import SelectNonCollinear\n",
    "from sklearn.decomposition import PCA\n",
    "\n",
    "import statsmodels.api as sm\n",
    "from sklearn.linear_model import LogisticRegression\n",
    "from sklearn.tree import DecisionTreeClassifier\n",
    "\n",
    "from sklearn.model_selection import RepeatedStratifiedKFold\n",
    "from sklearn.model_selection import GridSearchCV\n",
    "\n",
    "from sklearn.datasets import make_classification\n",
    "from sklearn.feature_selection import SelectKBest,f_classif, chi2\n",
    "import beepy as beep\n",
    "\n",
    "from sklearn.metrics import accuracy_score, log_loss\n",
    "from sklearn.tree import DecisionTreeClassifier\n",
    "from sklearn.ensemble import RandomForestClassifier, AdaBoostClassifier, GradientBoostingClassifier, BaggingClassifier\n",
    "from sklearn.ensemble import StackingClassifier, VotingClassifier\n",
    "\n",
    "from mlxtend.plotting import plot_sequential_feature_selection as plot_sfs\n",
    "import matplotlib.pyplot as plt\n",
    "from sklearn.model_selection import GridSearchCV\n",
    "from xgboost import XGBClassifier\n",
    "from category_encoders import TargetEncoder\n",
    "from statsmodels.stats.outliers_influence import variance_inflation_factor\n",
    "\n",
    "import timeit\n",
    "from sklearn.tree import DecisionTreeClassifier\n",
    "\n",
    "from keras.models import Sequential\n",
    "from keras.layers import Dense\n",
    "from tensorflow import keras\n",
    "\n",
    "import lightgbm as lgb\n",
    "from catboost import CatBoostClassifier\n",
    "from xgboost import XGBClassifier\n",
    "import featuretools as ft"
   ]
  },
  {
   "cell_type": "code",
   "execution_count": 1010,
   "metadata": {},
   "outputs": [],
   "source": [
    "start = timeit.default_timer()"
   ]
  },
  {
   "cell_type": "code",
   "execution_count": 1011,
   "metadata": {},
   "outputs": [],
   "source": [
    "## Importing the data and concating for easier data quality evaluation, cleaning & feature engineering\n",
    "\n",
    "train=pd.read_csv('train.csv')\n",
    "\n",
    "test=pd.read_csv('test.csv')\n",
    "\n",
    "data = pd.concat([train, test], axis=0,ignore_index=True)"
   ]
  },
  {
   "cell_type": "markdown",
   "metadata": {},
   "source": [
    "## 2. EDA in seperate notebook"
   ]
  },
  {
   "cell_type": "markdown",
   "metadata": {},
   "source": [
    "## 3. Data Cleaning"
   ]
  },
  {
   "cell_type": "code",
   "execution_count": 1012,
   "metadata": {},
   "outputs": [
    {
     "data": {
      "text/html": [
       "<div>\n",
       "<style scoped>\n",
       "    .dataframe tbody tr th:only-of-type {\n",
       "        vertical-align: middle;\n",
       "    }\n",
       "\n",
       "    .dataframe tbody tr th {\n",
       "        vertical-align: top;\n",
       "    }\n",
       "\n",
       "    .dataframe thead th {\n",
       "        text-align: right;\n",
       "    }\n",
       "</style>\n",
       "<table border=\"1\" class=\"dataframe\">\n",
       "  <thead>\n",
       "    <tr style=\"text-align: right;\">\n",
       "      <th></th>\n",
       "      <th>PassengerId</th>\n",
       "      <th>HomePlanet</th>\n",
       "      <th>CryoSleep</th>\n",
       "      <th>Cabin</th>\n",
       "      <th>Destination</th>\n",
       "      <th>Age</th>\n",
       "      <th>VIP</th>\n",
       "      <th>RoomService</th>\n",
       "      <th>FoodCourt</th>\n",
       "      <th>ShoppingMall</th>\n",
       "      <th>Spa</th>\n",
       "      <th>VRDeck</th>\n",
       "      <th>Name</th>\n",
       "      <th>Transported</th>\n",
       "    </tr>\n",
       "  </thead>\n",
       "  <tbody>\n",
       "    <tr>\n",
       "      <th>0</th>\n",
       "      <td>0001_01</td>\n",
       "      <td>Europa</td>\n",
       "      <td>False</td>\n",
       "      <td>B/0/P</td>\n",
       "      <td>TRAPPIST-1e</td>\n",
       "      <td>39.0</td>\n",
       "      <td>False</td>\n",
       "      <td>0.0</td>\n",
       "      <td>0.0</td>\n",
       "      <td>0.0</td>\n",
       "      <td>0.0</td>\n",
       "      <td>0.0</td>\n",
       "      <td>Maham Ofracculy</td>\n",
       "      <td>False</td>\n",
       "    </tr>\n",
       "    <tr>\n",
       "      <th>1</th>\n",
       "      <td>0002_01</td>\n",
       "      <td>Earth</td>\n",
       "      <td>False</td>\n",
       "      <td>F/0/S</td>\n",
       "      <td>TRAPPIST-1e</td>\n",
       "      <td>24.0</td>\n",
       "      <td>False</td>\n",
       "      <td>109.0</td>\n",
       "      <td>9.0</td>\n",
       "      <td>25.0</td>\n",
       "      <td>549.0</td>\n",
       "      <td>44.0</td>\n",
       "      <td>Juanna Vines</td>\n",
       "      <td>True</td>\n",
       "    </tr>\n",
       "    <tr>\n",
       "      <th>2</th>\n",
       "      <td>0003_01</td>\n",
       "      <td>Europa</td>\n",
       "      <td>False</td>\n",
       "      <td>A/0/S</td>\n",
       "      <td>TRAPPIST-1e</td>\n",
       "      <td>58.0</td>\n",
       "      <td>True</td>\n",
       "      <td>43.0</td>\n",
       "      <td>3576.0</td>\n",
       "      <td>0.0</td>\n",
       "      <td>6715.0</td>\n",
       "      <td>49.0</td>\n",
       "      <td>Altark Susent</td>\n",
       "      <td>False</td>\n",
       "    </tr>\n",
       "    <tr>\n",
       "      <th>3</th>\n",
       "      <td>0003_02</td>\n",
       "      <td>Europa</td>\n",
       "      <td>False</td>\n",
       "      <td>A/0/S</td>\n",
       "      <td>TRAPPIST-1e</td>\n",
       "      <td>33.0</td>\n",
       "      <td>False</td>\n",
       "      <td>0.0</td>\n",
       "      <td>1283.0</td>\n",
       "      <td>371.0</td>\n",
       "      <td>3329.0</td>\n",
       "      <td>193.0</td>\n",
       "      <td>Solam Susent</td>\n",
       "      <td>False</td>\n",
       "    </tr>\n",
       "    <tr>\n",
       "      <th>4</th>\n",
       "      <td>0004_01</td>\n",
       "      <td>Earth</td>\n",
       "      <td>False</td>\n",
       "      <td>F/1/S</td>\n",
       "      <td>TRAPPIST-1e</td>\n",
       "      <td>16.0</td>\n",
       "      <td>False</td>\n",
       "      <td>303.0</td>\n",
       "      <td>70.0</td>\n",
       "      <td>151.0</td>\n",
       "      <td>565.0</td>\n",
       "      <td>2.0</td>\n",
       "      <td>Willy Santantines</td>\n",
       "      <td>True</td>\n",
       "    </tr>\n",
       "  </tbody>\n",
       "</table>\n",
       "</div>"
      ],
      "text/plain": [
       "  PassengerId HomePlanet CryoSleep  Cabin  Destination   Age    VIP  \\\n",
       "0     0001_01     Europa     False  B/0/P  TRAPPIST-1e  39.0  False   \n",
       "1     0002_01      Earth     False  F/0/S  TRAPPIST-1e  24.0  False   \n",
       "2     0003_01     Europa     False  A/0/S  TRAPPIST-1e  58.0   True   \n",
       "3     0003_02     Europa     False  A/0/S  TRAPPIST-1e  33.0  False   \n",
       "4     0004_01      Earth     False  F/1/S  TRAPPIST-1e  16.0  False   \n",
       "\n",
       "   RoomService  FoodCourt  ShoppingMall     Spa  VRDeck               Name  \\\n",
       "0          0.0        0.0           0.0     0.0     0.0    Maham Ofracculy   \n",
       "1        109.0        9.0          25.0   549.0    44.0       Juanna Vines   \n",
       "2         43.0     3576.0           0.0  6715.0    49.0      Altark Susent   \n",
       "3          0.0     1283.0         371.0  3329.0   193.0       Solam Susent   \n",
       "4        303.0       70.0         151.0   565.0     2.0  Willy Santantines   \n",
       "\n",
       "  Transported  \n",
       "0       False  \n",
       "1        True  \n",
       "2       False  \n",
       "3       False  \n",
       "4        True  "
      ]
     },
     "execution_count": 1012,
     "metadata": {},
     "output_type": "execute_result"
    }
   ],
   "source": [
    "data.head()"
   ]
  },
  {
   "cell_type": "markdown",
   "metadata": {},
   "source": [
    "This portion of the notebook focuses on imputing missing values, as discovered in the exploratory data analysis notebook there were no duplicate entries"
   ]
  },
  {
   "cell_type": "code",
   "execution_count": 1013,
   "metadata": {},
   "outputs": [
    {
     "data": {
      "text/plain": [
       "PassengerId        0\n",
       "HomePlanet       288\n",
       "CryoSleep        310\n",
       "Cabin            299\n",
       "Destination      274\n",
       "Age              270\n",
       "VIP              296\n",
       "RoomService      263\n",
       "FoodCourt        289\n",
       "ShoppingMall     306\n",
       "Spa              284\n",
       "VRDeck           268\n",
       "Name             294\n",
       "Transported     4277\n",
       "dtype: int64"
      ]
     },
     "execution_count": 1013,
     "metadata": {},
     "output_type": "execute_result"
    }
   ],
   "source": [
    "## Checking for missing values\n",
    "data.isna().sum()"
   ]
  },
  {
   "cell_type": "markdown",
   "metadata": {},
   "source": [
    "**Part 1:** Passengers travelling in groups share some common characteristics, so for those passengers we will fill missing values based on the group's mode for appropriate variables"
   ]
  },
  {
   "cell_type": "code",
   "execution_count": 1014,
   "metadata": {},
   "outputs": [],
   "source": [
    "## Some feature engineering for better cleaning\n",
    "\n",
    "##Identifying group passengers as a way to impute cleaner values\n",
    "data['PassengerId_Group']= data['PassengerId'].str[:4]"
   ]
  },
  {
   "cell_type": "code",
   "execution_count": 1015,
   "metadata": {},
   "outputs": [],
   "source": [
    "def fast_mode(df, key_cols, value_col):\n",
    "    \"\"\" \n",
    "    Calculate a column mode, by group, ignoring null values. \n",
    "\n",
    "    Parameters\n",
    "    ----------\n",
    "    df : pandas.DataFrame\n",
    "        DataFrame over which to calcualate the mode. \n",
    "    key_cols : list of str\n",
    "        Columns to groupby for calculation of mode.\n",
    "    value_col : str\n",
    "        Column for which to calculate the mode. \n",
    "\n",
    "    Return\n",
    "    ------ \n",
    "    pandas.DataFrame\n",
    "        One row for the mode of value_col per key_cols group. If ties, \n",
    "        returns the one which is sorted first. \n",
    "    \"\"\"\n",
    "    return (df.groupby(key_cols + [value_col]).size() \n",
    "              .to_frame('counts').reset_index() \n",
    "              .sort_values('counts', ascending=False) \n",
    "              .drop_duplicates(subset=key_cols)).drop(columns='counts')"
   ]
  },
  {
   "cell_type": "code",
   "execution_count": 1016,
   "metadata": {},
   "outputs": [],
   "source": [
    "data.loc[data.HomePlanet.isnull(), 'HomePlanet'] = data.PassengerId_Group.map(fast_mode(data,['PassengerId_Group'], \n",
    "                                                            'HomePlanet').set_index('PassengerId_Group').HomePlanet)\n",
    "\n",
    "data.loc[data.Transported.isnull(), 'Transported'] = data.PassengerId_Group.map(fast_mode(data,['PassengerId_Group'],\n",
    "                                                            'Transported').set_index('PassengerId_Group').Transported)"
   ]
  },
  {
   "cell_type": "markdown",
   "metadata": {},
   "source": [
    "**Part 2:** For the remaning missing values, we will utilize different imputation methodology based on the circumstances of the variable"
   ]
  },
  {
   "cell_type": "markdown",
   "metadata": {},
   "source": [
    "**Spend Variables**\n",
    "\n",
    "'RoomService', 'FoodCourt', 'ShoppingMall', 'Spa', 'VRDeck'\n",
    "\n",
    "Since the median was 0 for all these variables, we will use it to replace missing values"
   ]
  },
  {
   "cell_type": "code",
   "execution_count": 1017,
   "metadata": {},
   "outputs": [],
   "source": [
    "cols=['RoomService','FoodCourt','ShoppingMall','Spa','VRDeck']\n",
    "data[cols] = data[cols].replace(np.nan,0)"
   ]
  },
  {
   "cell_type": "markdown",
   "metadata": {},
   "source": [
    "**VIP**\n",
    "\n",
    "Only about 2% of passengers were considered VIPs, so we will assume those with missing values are not VIPs"
   ]
  },
  {
   "cell_type": "code",
   "execution_count": 1018,
   "metadata": {},
   "outputs": [],
   "source": [
    "data['VIP'] = data['VIP'].replace(np.nan,False).astype(int)"
   ]
  },
  {
   "cell_type": "markdown",
   "metadata": {},
   "source": [
    "**Age**\n",
    "\n",
    "We will use median to replace missing values"
   ]
  },
  {
   "cell_type": "code",
   "execution_count": 1019,
   "metadata": {},
   "outputs": [],
   "source": [
    "data['Age'] = data['Age'].replace(np.nan,data.Age.median())"
   ]
  },
  {
   "cell_type": "markdown",
   "metadata": {},
   "source": [
    "**CyroSleep**\n",
    "\n",
    "We will use the mode"
   ]
  },
  {
   "cell_type": "code",
   "execution_count": 1020,
   "metadata": {},
   "outputs": [],
   "source": [
    "data['CryoSleep']=data['CryoSleep'].fillna(data['CryoSleep'].mode()[0])"
   ]
  },
  {
   "cell_type": "markdown",
   "metadata": {},
   "source": [
    "**Home Planet**\n",
    "\n",
    "We will use the mode"
   ]
  },
  {
   "cell_type": "code",
   "execution_count": 1021,
   "metadata": {},
   "outputs": [],
   "source": [
    "data['HomePlanet']=data['HomePlanet'].fillna(data['HomePlanet'].mode()[0])"
   ]
  },
  {
   "cell_type": "markdown",
   "metadata": {},
   "source": [
    "**Destination**\n",
    "\n",
    "We will use the mode"
   ]
  },
  {
   "cell_type": "code",
   "execution_count": 1022,
   "metadata": {},
   "outputs": [],
   "source": [
    "data['Destination']=data['Destination'].fillna(data['Destination'].mode()[0])"
   ]
  },
  {
   "cell_type": "markdown",
   "metadata": {},
   "source": [
    "**Cabin**"
   ]
  },
  {
   "cell_type": "markdown",
   "metadata": {},
   "source": [
    "We will impute according to the nearest row"
   ]
  },
  {
   "cell_type": "code",
   "execution_count": 1023,
   "metadata": {},
   "outputs": [],
   "source": [
    "data['Cabin'] = data['Cabin'].fillna(method='ffill')"
   ]
  },
  {
   "cell_type": "markdown",
   "metadata": {},
   "source": [
    "**Name**"
   ]
  },
  {
   "cell_type": "markdown",
   "metadata": {},
   "source": [
    "We will impute according to the nearest row"
   ]
  },
  {
   "cell_type": "code",
   "execution_count": 1024,
   "metadata": {},
   "outputs": [],
   "source": [
    "data['Name'] = data['Name'].fillna(method='ffill')"
   ]
  },
  {
   "cell_type": "markdown",
   "metadata": {},
   "source": [
    "**Target Encoding**"
   ]
  },
  {
   "cell_type": "code",
   "execution_count": 1025,
   "metadata": {},
   "outputs": [],
   "source": [
    "#HomePlanet, Destination \n",
    "\n",
    "cols=['HomePlanet','Destination']\n",
    "\n",
    "for var in cols:\n",
    "    data[str(var)+'_target']= data[var].map(dict(train.groupby(var)['Transported'].mean()))"
   ]
  },
  {
   "cell_type": "code",
   "execution_count": 1026,
   "metadata": {},
   "outputs": [
    {
     "data": {
      "text/plain": [
       "PassengerId              0\n",
       "HomePlanet               0\n",
       "CryoSleep                0\n",
       "Cabin                    0\n",
       "Destination              0\n",
       "Age                      0\n",
       "VIP                      0\n",
       "RoomService              0\n",
       "FoodCourt                0\n",
       "ShoppingMall             0\n",
       "Spa                      0\n",
       "VRDeck                   0\n",
       "Name                     0\n",
       "Transported           4277\n",
       "PassengerId_Group        0\n",
       "HomePlanet_target        0\n",
       "Destination_target       0\n",
       "dtype: int64"
      ]
     },
     "execution_count": 1026,
     "metadata": {},
     "output_type": "execute_result"
    }
   ],
   "source": [
    "## We now have a clean dataset\n",
    "\n",
    "data.isna().sum()"
   ]
  },
  {
   "cell_type": "markdown",
   "metadata": {},
   "source": [
    "## 4. Feature Engineering"
   ]
  },
  {
   "cell_type": "markdown",
   "metadata": {},
   "source": [
    "This portion of the notebook will deal with the transformation of categorical variables and creating new variables derived from the originals that might have greater predictive power"
   ]
  },
  {
   "cell_type": "markdown",
   "metadata": {},
   "source": [
    "### Transforming Categorical Variables"
   ]
  },
  {
   "cell_type": "markdown",
   "metadata": {},
   "source": [
    "**Name**"
   ]
  },
  {
   "cell_type": "code",
   "execution_count": 1027,
   "metadata": {},
   "outputs": [],
   "source": [
    "## Splitting Name and creating the Surname variable\n",
    "\n",
    "data['Surname']=data['Name'].str.split(n=2).str[-1].str.upper()\n",
    "\n",
    "data['Number_of_same_surname']=data['Surname'].map(dict(data['Surname'].value_counts()))"
   ]
  },
  {
   "cell_type": "markdown",
   "metadata": {},
   "source": [
    "**PassengerID**"
   ]
  },
  {
   "cell_type": "code",
   "execution_count": 1028,
   "metadata": {},
   "outputs": [],
   "source": [
    "## Passenger ID variable\n",
    "data['PassengerId_Single']=data['PassengerId'].str[-2:]"
   ]
  },
  {
   "cell_type": "code",
   "execution_count": 1029,
   "metadata": {},
   "outputs": [],
   "source": [
    "## Creating number in group variable\n",
    "data['number_in_group']=data['PassengerId_Group'].map(dict(data['PassengerId_Group'].value_counts()))"
   ]
  },
  {
   "cell_type": "markdown",
   "metadata": {},
   "source": [
    "**Cabin**"
   ]
  },
  {
   "cell_type": "code",
   "execution_count": 1030,
   "metadata": {},
   "outputs": [],
   "source": [
    "## Creating Cabin number variable\n",
    "data['Cabin_number']=data['Cabin'].str[2:-2]"
   ]
  },
  {
   "cell_type": "code",
   "execution_count": 1031,
   "metadata": {},
   "outputs": [],
   "source": [
    "## Creating Cabin Side variable (one-hot-encoding since binary)\n",
    "data['Cabin_Side_P']=data['Cabin'].str[-1].map({\"P\":1, \"S\":0})"
   ]
  },
  {
   "cell_type": "code",
   "execution_count": 1032,
   "metadata": {},
   "outputs": [],
   "source": [
    "## Creating Cabin deck variable for datasets\n",
    "\n",
    "train['Cabin_Deck']=train['Cabin'].str[0]\n",
    "data['Cabin_Deck']=data['Cabin'].str[0]\n",
    "\n",
    "## Target Encoding\n",
    "data['Cabin_Deck_target']= data['Cabin_Deck'].map(dict(train.groupby('Cabin_Deck')['Transported'].mean()))"
   ]
  },
  {
   "cell_type": "code",
   "execution_count": 1033,
   "metadata": {},
   "outputs": [],
   "source": [
    "data['Cabins_Deck_ABCD']=data['Cabin_Deck'].isin(['A','B','C','D'])\n",
    "data['Cabins_Deck_EFGT']=data['Cabin_Deck'].isin(['E','F','G','T'])\n",
    "\n",
    "data['Cabins_Deck_AFGE']=data['Cabin_Deck'].isin(['A','F','G','E'])\n",
    "data['Cabins_Deck_BCDT']=data['Cabin_Deck'].isin(['B','C','D','T'])\n",
    "\n",
    "\n",
    "data['Cabins_Deck_ABGT']=data['Cabin_Deck'].isin(['A','B','G','T'])\n",
    "data['Cabins_Deck_EFCD']=data['Cabin_Deck'].isin(['E','F','C','D'])"
   ]
  },
  {
   "cell_type": "code",
   "execution_count": 1034,
   "metadata": {},
   "outputs": [],
   "source": [
    "data['Side_P_Cabins_Deck_ABCD']= (data['Cabins_Deck_ABCD']==True)&(data['Cabin_Side_P']==True)\n",
    "data['Side_P_Cabins_Deck_EFGT']= (data['Cabins_Deck_EFGT']==True)&(data['Cabin_Side_P']==True)\n",
    "\n",
    "data['Cabin_Decks_AFGE']=(data['Cabins_Deck_AFGE']==True)&(data['Cabin_Side_P']==True)\n",
    "data['Cabin_Decks_BCDT']=(data['Cabins_Deck_BCDT']==True)&(data['Cabin_Side_P']==True)\n",
    "\n",
    "data['Side_P_Cabins_Deck_ABGT']=(data['Cabins_Deck_ABGT']==True)&(data['Cabin_Side_P']==True)\n",
    "data['Side_P_Cabins_Deck_EFCD']=(data['Cabins_Deck_EFCD']==True)&(data['Cabin_Side_P']==True)"
   ]
  },
  {
   "cell_type": "code",
   "execution_count": 1035,
   "metadata": {},
   "outputs": [],
   "source": [
    "## One hot encoding\n",
    "\n",
    "for cabin in data['Cabin_Deck'].unique():\n",
    "    data['Cabin_Deck'+str(cabin)]= data['Cabin_Deck'].map(lambda x: True if x == cabin else False) "
   ]
  },
  {
   "cell_type": "markdown",
   "metadata": {},
   "source": [
    "### New Features Engineered"
   ]
  },
  {
   "cell_type": "code",
   "execution_count": 1036,
   "metadata": {},
   "outputs": [],
   "source": [
    "data['surname_multiplied_group_num']=data['Number_of_same_surname']*data['number_in_group']"
   ]
  },
  {
   "cell_type": "code",
   "execution_count": 1037,
   "metadata": {},
   "outputs": [],
   "source": [
    "for planet in data['HomePlanet'].unique():\n",
    "    data['HomePlanet_'+str(planet)]= data['HomePlanet'].map(lambda x: True if x == planet else False) "
   ]
  },
  {
   "cell_type": "code",
   "execution_count": 1038,
   "metadata": {},
   "outputs": [],
   "source": [
    "for destination in data['Destination'].unique():\n",
    "    data['Destination_'+str(destination)]= data['Destination'].map(lambda x: True if x == destination else False) "
   ]
  },
  {
   "cell_type": "code",
   "execution_count": 1039,
   "metadata": {},
   "outputs": [],
   "source": [
    "## Tansportation routes\n",
    "\n",
    "data['Route_Earth_TRAPPIST-1e']= (data['Destination_TRAPPIST-1e']==True)&(data['HomePlanet_Earth']==True)\n",
    "\n",
    "data['Route_Earth_55 Cancri e']=(data['Destination_55 Cancri e']==True)&(data['HomePlanet_Earth']==True)\n",
    "\n",
    "data['Route_Earth_PSO J318.5-22']=(data['Destination_PSO J318.5-22']==True)&(data['HomePlanet_Earth']==True)\n"
   ]
  },
  {
   "cell_type": "code",
   "execution_count": 1040,
   "metadata": {},
   "outputs": [],
   "source": [
    "## Tansportation routes\n",
    "\n",
    "data['Route_Mars_TRAPPIST-1e']= (data['Destination_TRAPPIST-1e']==True)&(data['HomePlanet_Mars']==True)\n",
    "\n",
    "data['Route_Mars_55 Cancri e']=(data['Destination_55 Cancri e']==True)&(data['HomePlanet_Mars']==True)\n",
    "\n",
    "data['Route_Mars_PSO J318.5-22']=(data['Destination_PSO J318.5-22']==True)&(data['HomePlanet_Mars']==True)"
   ]
  },
  {
   "cell_type": "code",
   "execution_count": 1041,
   "metadata": {},
   "outputs": [],
   "source": [
    "## Tansportation routes\n",
    "\n",
    "data['Route_Europa_TRAPPIST-1e']= (data['Destination_TRAPPIST-1e']==True)&(data['HomePlanet_Europa']==True)\n",
    "\n",
    "data['Route_Europa_55 Cancri e']=(data['Destination_55 Cancri e']==True)&(data['HomePlanet_Europa']==True)\n",
    "\n",
    "data['Route_Europa_PSO J318.5-22']=(data['Destination_PSO J318.5-22']==True)&(data['HomePlanet_Europa']==True)\n",
    "\n",
    "route_cols = [col for col in data.columns if 'Route' in col]"
   ]
  },
  {
   "cell_type": "code",
   "execution_count": 1042,
   "metadata": {},
   "outputs": [],
   "source": [
    "## Spend Variables\n",
    "\n",
    "## Log transformations (smoothing)\n",
    "\n",
    "\n",
    "data['TotalSpend']= data['RoomService']+data['FoodCourt']+ data['ShoppingMall']+ data['Spa']+ data['VRDeck']\n",
    "\n",
    "\n",
    "cols=['RoomService','FoodCourt','ShoppingMall','Spa','VRDeck']\n",
    "\n",
    "for var in cols:\n",
    "    data[str(var)+'_log']= data[var].map(lambda i: np.log(i) if i > 0 else 0)\n",
    "\n",
    "    \n",
    "## Different Combinations of Spend\n",
    "\n",
    "\n",
    "data['RoomService+FoodCourt_Spend']=  data['RoomService']+data['FoodCourt']\n",
    "\n",
    "data['RoomService+ShoppingMall_Spend']=  data['RoomService']+data['ShoppingMall']\n",
    "\n",
    "data['RoomService+Spa_Spend']=  data['RoomService']+data['Spa']\n",
    "\n",
    "data['RoomService+VRDeck_Spend']=  data['RoomService']+data['VRDeck']\n",
    "\n",
    "data['FoodCourt+ShoppingMall_Spend']=  data['FoodCourt']+data['ShoppingMall']\n",
    "\n",
    "data['FoodCourt+Spa_Spend'] =  data['FoodCourt']+data['Spa']\n",
    "\n",
    "data['FoodCourt+VRDeck_Spend']=  data['FoodCourt']+data['VRDeck']\n",
    "\n",
    "data['ShoppingMall+Spa_Spend']=  data['ShoppingMall']+data['Spa']\n",
    "\n",
    "data['ShoppingMall+VRDeck_Spend']=  data['ShoppingMall']+data['VRDeck']\n",
    "\n",
    "data['Spa+VRDeck_Spend']=  data['Spa']+data['VRDeck']\n"
   ]
  },
  {
   "cell_type": "code",
   "execution_count": 1043,
   "metadata": {},
   "outputs": [],
   "source": [
    "## Age Variables\n",
    "\n",
    "data['Age_log']= data['Age'].map(lambda x: np.log(x) if x > 0 else 0)\n",
    "\n",
    "data['Age_Zero']= data['Age'].apply(lambda x: True if x ==0 else False)\n",
    "\n",
    "data['Age_Infant']= data['Age'].apply(lambda x: True if x <= 5 else False)\n",
    "\n",
    "data['Age_Child']= data['Age'].apply(lambda x: True if x <= 12 else False)\n",
    "\n",
    "data['Age_Teen']= data['Age'].apply(lambda x: True if x <= 18 else False)\n",
    "\n",
    "data['Age_Elder']= data['Age'].apply(lambda x: True if x >= 60 else False)"
   ]
  },
  {
   "cell_type": "code",
   "execution_count": 1044,
   "metadata": {},
   "outputs": [],
   "source": [
    "## CyroSleep Variables\n",
    "\n",
    "\n",
    "## CyroSleep in different Cabin Decks\n",
    "\n",
    "for deck in data['Cabin_Deck'].unique():\n",
    "    data['Cabin_Deck_CryoSleep_'+str(deck)]= (data['Cabin_Deck']==deck)&(data['CryoSleep']==True)\n",
    "    \n",
    "## CyroSleep for different Destinations\n",
    "\n",
    "for dest in data['Destination'].unique():\n",
    "    data['Destination_CryoSleep_'+str(dest)]= (data['Destination']==dest)&(data['CryoSleep']==True)\n",
    "    \n",
    "## CyroSleep for different HomePlanets\n",
    "\n",
    "for home in data['HomePlanet'].unique():\n",
    "    data['HomePlanet_CryoSleep_'+str(home)]= (data['HomePlanet']==home)&(data['CryoSleep']==True)\n",
    "    \n",
    "## CyroSleep Cabin Side\n",
    "\n",
    "data['Cabin_Side_P_Cryosleep']= (data['Cabin_Side_P']==1)&(data['CryoSleep']==True)\n",
    "\n"
   ]
  },
  {
   "cell_type": "code",
   "execution_count": 1045,
   "metadata": {},
   "outputs": [],
   "source": [
    "## VIP in different Cabin Decks\n",
    "for deck in data['Cabin_Deck'].unique():\n",
    "    data['Cabin_Deck_VIP_'+str(deck)]= (data['Cabin_Deck']==deck)&(data['VIP']==True)\n",
    "    \n",
    "## VIP Cabin Side\n",
    "data['Cabin_Side_P_VIP']= (data['Cabin_Side_P']==1)&(data['VIP']==True)"
   ]
  },
  {
   "cell_type": "code",
   "execution_count": 1046,
   "metadata": {},
   "outputs": [
    {
     "name": "stderr",
     "output_type": "stream",
     "text": [
      "/Users/adamtassabehji/opt/anaconda3/lib/python3.7/site-packages/ipykernel_launcher.py:8: PerformanceWarning:\n",
      "\n",
      "DataFrame is highly fragmented.  This is usually the result of calling `frame.insert` many times, which has poor performance.  Consider joining all columns at once using pd.concat(axis=1) instead.  To get a de-fragmented frame, use `newframe = frame.copy()`\n",
      "\n",
      "/Users/adamtassabehji/opt/anaconda3/lib/python3.7/site-packages/ipykernel_launcher.py:9: PerformanceWarning:\n",
      "\n",
      "DataFrame is highly fragmented.  This is usually the result of calling `frame.insert` many times, which has poor performance.  Consider joining all columns at once using pd.concat(axis=1) instead.  To get a de-fragmented frame, use `newframe = frame.copy()`\n",
      "\n",
      "/Users/adamtassabehji/opt/anaconda3/lib/python3.7/site-packages/ipykernel_launcher.py:4: PerformanceWarning:\n",
      "\n",
      "DataFrame is highly fragmented.  This is usually the result of calling `frame.insert` many times, which has poor performance.  Consider joining all columns at once using pd.concat(axis=1) instead.  To get a de-fragmented frame, use `newframe = frame.copy()`\n",
      "\n",
      "/Users/adamtassabehji/opt/anaconda3/lib/python3.7/site-packages/ipykernel_launcher.py:5: PerformanceWarning:\n",
      "\n",
      "DataFrame is highly fragmented.  This is usually the result of calling `frame.insert` many times, which has poor performance.  Consider joining all columns at once using pd.concat(axis=1) instead.  To get a de-fragmented frame, use `newframe = frame.copy()`\n",
      "\n",
      "/Users/adamtassabehji/opt/anaconda3/lib/python3.7/site-packages/ipykernel_launcher.py:6: PerformanceWarning:\n",
      "\n",
      "DataFrame is highly fragmented.  This is usually the result of calling `frame.insert` many times, which has poor performance.  Consider joining all columns at once using pd.concat(axis=1) instead.  To get a de-fragmented frame, use `newframe = frame.copy()`\n",
      "\n",
      "/Users/adamtassabehji/opt/anaconda3/lib/python3.7/site-packages/ipykernel_launcher.py:7: PerformanceWarning:\n",
      "\n",
      "DataFrame is highly fragmented.  This is usually the result of calling `frame.insert` many times, which has poor performance.  Consider joining all columns at once using pd.concat(axis=1) instead.  To get a de-fragmented frame, use `newframe = frame.copy()`\n",
      "\n"
     ]
    }
   ],
   "source": [
    "route_cols = [col for col in data.columns if 'Route' in col]\n",
    "\n",
    "for route in route_cols:\n",
    "    data[str(route)+'CyroSleep']=(data[route]==True)&(data['CryoSleep']==True)\n",
    "    data[str(route)+'Age_log']=(data[route]==True)*data['Age_log']\n",
    "    data[str(route)+'Age_Infant']=(data[route]==True)&(data['Age_Infant']==True)\n",
    "    data[str(route)+'Age_Child']=(data[route]==True)&(data['Age_Child']==True)\n",
    "    data[str(route)+'VIP']=(data[route]==True)&(data['VIP']==True)\n",
    "    data[str(route)+'TotalSpend']=(data[route]==True)&(data['TotalSpend']==True)"
   ]
  },
  {
   "cell_type": "raw",
   "metadata": {},
   "source": [
    "cabins_cols = [col for col in data.columns if 'Cabins' in col]\n",
    "spend_cols= [col for col in data.columns if 'Spend' in col]\n",
    "    \n",
    "for cabins in cabins_cols:\n",
    "    data[str(cabins)+'CryoSleep']=(data[cabins]==True)&(data['CryoSleep']==True)\n",
    "    data[str(cabins)+'Age_log']=(data[cabins]==True)*data['Age_log']\n",
    "    data[str(cabins)+'Age_Infant']=(data[cabins]==True)&(data['Age_Infant']==True)\n",
    "    data[str(cabins)+'Age_Child']=(data[cabins]==True)&(data['Age_Child']==True)\n",
    "    data[str(cabins)+'_VIP']=(data[cabins]==True)&(data['VIP']==True)\n",
    "    data[str(cabins)+'TotalSpend']=(data[cabins]==True)&(data['TotalSpend']==True)\n",
    "\n",
    "\n",
    "for spend in spend_cols:\n",
    "    data[str(spend)+'CyroSleep']=(data[spend]==True)&(data['CryoSleep']==True)\n",
    "    data[str(spend)+'Age_log']=(data[spend]==True)*data['Age_log']\n",
    "    data[str(spend)+'Age_Infant']=(data[spend]==True)&(data['Age_Infant']==True)\n",
    "    data[str(spend)+'Age_Child']=(data[spend]==True)&(data['Age_Child']==True)\n",
    "    data[str(spend)+'_VIP']=(data[spend]==True)&(data['VIP']==True)"
   ]
  },
  {
   "cell_type": "code",
   "execution_count": 1047,
   "metadata": {},
   "outputs": [],
   "source": [
    "## Dropping Categorical Variables\n",
    "data=data.drop(['HomePlanet','Destination','Cabin','Cabin_Deck','Name','Surname'], axis=1)"
   ]
  },
  {
   "cell_type": "code",
   "execution_count": null,
   "metadata": {},
   "outputs": [],
   "source": [
    "## Replacing outliers\n",
    "cols=data.columns\n",
    "\n",
    "for col in cols:\n",
    "    lower=data[col].quantile(0.03)\n",
    "    upper=data[col].quantile(0.97)\n",
    "    data[col]=np.where(data[col] <lower, lower,data[col])\n",
    "    data[col]=np.where(data[col] >upper, upper,data[col])"
   ]
  },
  {
   "cell_type": "code",
   "execution_count": 1048,
   "metadata": {},
   "outputs": [
    {
     "name": "stdout",
     "output_type": "stream",
     "text": [
      "The total number of variables considered is : 154\n"
     ]
    }
   ],
   "source": [
    "print(f'''The total number of variables considered is : {len(data.columns)-1}''')"
   ]
  },
  {
   "cell_type": "markdown",
   "metadata": {},
   "source": [
    "## 4. Feature Selection"
   ]
  },
  {
   "cell_type": "code",
   "execution_count": 1049,
   "metadata": {},
   "outputs": [],
   "source": [
    "## Setting index\n",
    "data=data.set_index('PassengerId', drop=True)\n",
    "\n",
    "\n",
    "labelled=data[data['Transported'].notnull()==True]\n",
    "\n",
    "X=labelled.drop(['Transported'], axis=1).astype(float)\n",
    "y=labelled['Transported'].astype(int) "
   ]
  },
  {
   "cell_type": "markdown",
   "metadata": {},
   "source": [
    "We will now select the variables with the greatest predict power.\n",
    "\n",
    "Initially a filter will be used to perform univariate statistical analysis to identify the most promising 100 featues.\n",
    "\n",
    "A wrapper then will be used to explore the optimal number of variables and assess their predictive power using different combonations "
   ]
  },
  {
   "cell_type": "markdown",
   "metadata": {},
   "source": [
    "**Normalizing/Scaling the Data**"
   ]
  },
  {
   "cell_type": "code",
   "execution_count": 1050,
   "metadata": {},
   "outputs": [],
   "source": [
    "scaler = StandardScaler()\n",
    "scaler.fit(X)\n",
    "X=pd.DataFrame(scaler.transform(X),index=X.index, columns=X.columns)"
   ]
  },
  {
   "cell_type": "markdown",
   "metadata": {},
   "source": [
    "**Filter Method (Univariate Tests)**"
   ]
  },
  {
   "cell_type": "code",
   "execution_count": 1051,
   "metadata": {},
   "outputs": [
    {
     "name": "stderr",
     "output_type": "stream",
     "text": [
      "/Users/adamtassabehji/opt/anaconda3/lib/python3.7/site-packages/sklearn/feature_selection/_univariate_selection.py:115: UserWarning:\n",
      "\n",
      "Features [ 82  97 110 115 116 122 127 128 131 132 134 140 146 149 150 152] are constant.\n",
      "\n",
      "/Users/adamtassabehji/opt/anaconda3/lib/python3.7/site-packages/sklearn/feature_selection/_univariate_selection.py:116: RuntimeWarning:\n",
      "\n",
      "invalid value encountered in true_divide\n",
      "\n"
     ]
    },
    {
     "data": {
      "text/plain": [
       "Index(['CryoSleep', 'RoomService', 'Spa', 'VRDeck', 'HomePlanet_target',\n",
       "       'Destination_target', 'Cabin_Deck_target', 'Cabins_Deck_ABCD',\n",
       "       'Cabins_Deck_EFGT', 'Cabins_Deck_AFGE', 'Cabins_Deck_BCDT',\n",
       "       'Side_P_Cabins_Deck_EFGT', 'Cabin_Decks_AFGE', 'Cabin_DeckB',\n",
       "       'HomePlanet_Europa', 'HomePlanet_Earth', 'Route_Earth_TRAPPIST-1e',\n",
       "       'Route_Europa_TRAPPIST-1e', 'Route_Europa_55 Cancri e', 'TotalSpend',\n",
       "       'RoomService_log', 'FoodCourt_log', 'ShoppingMall_log', 'Spa_log',\n",
       "       'VRDeck_log', 'RoomService+ShoppingMall_Spend', 'RoomService+Spa_Spend',\n",
       "       'RoomService+VRDeck_Spend', 'ShoppingMall+Spa_Spend',\n",
       "       'ShoppingMall+VRDeck_Spend', 'Spa+VRDeck_Spend', 'Age_log',\n",
       "       'Age_Infant', 'Age_Child', 'Cabin_Deck_CryoSleep_B',\n",
       "       'Cabin_Deck_CryoSleep_F', 'Cabin_Deck_CryoSleep_G',\n",
       "       'Cabin_Deck_CryoSleep_C', 'Destination_CryoSleep_TRAPPIST-1e',\n",
       "       'Destination_CryoSleep_55 Cancri e', 'HomePlanet_CryoSleep_Europa',\n",
       "       'HomePlanet_CryoSleep_Earth', 'HomePlanet_CryoSleep_Mars',\n",
       "       'Cabin_Side_P_Cryosleep', 'Route_Earth_TRAPPIST-1eAge_log',\n",
       "       'Route_Mars_TRAPPIST-1eCyroSleep', 'Route_Mars_TRAPPIST-1eAge_Child',\n",
       "       'Route_Europa_TRAPPIST-1eCyroSleep',\n",
       "       'Route_Europa_55 Cancri eCyroSleep', 'Route_Europa_55 Cancri eAge_log'],\n",
       "      dtype='object')"
      ]
     },
     "execution_count": 1051,
     "metadata": {},
     "output_type": "execute_result"
    }
   ],
   "source": [
    "## Filtering for the top 50 variables\n",
    "\n",
    "fs = SelectKBest(score_func=f_classif,k=50)\n",
    "X_selected = fs.fit_transform(X, y)\n",
    "\n",
    "## Identifying the names and filtering for the columns\n",
    "cols = fs.get_support(indices=True)\n",
    "X=labelled[X.columns[cols]]\n",
    "X.columns\n"
   ]
  },
  {
   "cell_type": "markdown",
   "metadata": {},
   "source": [
    "**Normalizing/Scaling the Data**"
   ]
  },
  {
   "cell_type": "code",
   "execution_count": 1052,
   "metadata": {},
   "outputs": [],
   "source": [
    "scaler = StandardScaler()\n",
    "scaler.fit(X)\n",
    "X=pd.DataFrame(scaler.transform(X),index=X.index, columns=X.columns)"
   ]
  },
  {
   "cell_type": "markdown",
   "metadata": {},
   "source": [
    "**Removing highly correlated variables to avoid multicollinearity (Optional)**"
   ]
  },
  {
   "cell_type": "code",
   "execution_count": 1053,
   "metadata": {},
   "outputs": [
    {
     "name": "stderr",
     "output_type": "stream",
     "text": [
      "/Users/adamtassabehji/opt/anaconda3/lib/python3.7/site-packages/statsmodels/stats/outliers_influence.py:193: RuntimeWarning:\n",
      "\n",
      "divide by zero encountered in double_scalars\n",
      "\n"
     ]
    },
    {
     "name": "stdout",
     "output_type": "stream",
     "text": [
      "Iteration no:  1\n",
      "Variable CryoSleep has the highest VIF with a score of : inf\n",
      "\n",
      "Iteration no:  2\n",
      "Variable RoomService has the highest VIF with a score of : inf\n",
      "\n",
      "Iteration no:  3\n",
      "Variable Spa has the highest VIF with a score of : inf\n",
      "\n",
      "Iteration no:  4\n",
      "Variable VRDeck has the highest VIF with a score of : inf\n",
      "\n",
      "Iteration no:  5\n",
      "Variable HomePlanet_target has the highest VIF with a score of : inf\n",
      "\n",
      "Iteration no:  6\n",
      "Variable Cabins_Deck_ABCD has the highest VIF with a score of : inf\n",
      "\n",
      "Iteration no:  7\n",
      "Variable Cabins_Deck_AFGE has the highest VIF with a score of : inf\n",
      "\n",
      "Iteration no:  8\n",
      "Variable RoomService+ShoppingMall_Spend has the highest VIF with a score of : inf\n",
      "\n",
      "Iteration no:  9\n",
      "Variable RoomService+Spa_Spend has the highest VIF with a score of : inf\n",
      "\n",
      "Iteration no:  10\n",
      "Variable HomePlanet_CryoSleep_Europa has the highest VIF with a score of : 183.8927946902367\n",
      "\n",
      "Iteration no:  11\n",
      "Variable Route_Europa_55 Cancri e has the highest VIF with a score of : 134.79912392293116\n",
      "\n",
      "Iteration no:  12\n",
      "Variable HomePlanet_Europa has the highest VIF with a score of : 65.09972990601908\n",
      "\n",
      "Iteration no:  13\n",
      "Variable Side_P_Cabins_Deck_EFGT has the highest VIF with a score of : 31.445406221912947\n",
      "\n",
      "Iteration no:  14\n",
      "Variable Route_Earth_TRAPPIST-1e has the highest VIF with a score of : 28.741176454819396\n",
      "\n",
      "Iteration no:  15\n",
      "Variable HomePlanet_CryoSleep_Earth has the highest VIF with a score of : 26.443581485076646\n",
      "\n",
      "Iteration no:  16\n",
      "Variable HomePlanet_CryoSleep_Mars has the highest VIF with a score of : 13.715708741027315\n",
      "\n",
      "Iteration no:  17\n",
      "Variable Cabins_Deck_EFGT has the highest VIF with a score of : 10.706258800051176\n",
      "\n"
     ]
    }
   ],
   "source": [
    "\n",
    "def cal_vif(x):\n",
    "    thresh = 10\n",
    "    output= pd.DataFrame()\n",
    "    k = x.shape [1]\n",
    "    vif =[variance_inflation_factor (x.values, i) for i in range(x.shape [1])]\n",
    "    for i in range(1,k):\n",
    "        a = np.argmax (vif)\n",
    "        if(vif[a]<=thresh):\n",
    "            break\n",
    "        if(i==1):\n",
    "            print('Iteration no: ',i)\n",
    "            print(f'''Variable {x.columns [a]} has the highest VIF with a score of : {vif[a]}''')\n",
    "            output= x.drop (x.columns [a], axis=1)\n",
    "            vif =[variance_inflation_factor (output.values,j) for j in range (output.shape[1])]\n",
    "            print('')\n",
    "        elif(i>1):\n",
    "            print('Iteration no: ',i)\n",
    "            print(f'''Variable {output.columns [a]} has the highest VIF with a score of : {vif[a]}''')\n",
    "            print('')\n",
    "            output = output.drop (output.columns [a], axis=1)\n",
    "            vif = [variance_inflation_factor (output.values, j) for j in range (output.shape [1])]\n",
    "    return(output)\n",
    "\n",
    "vif_selected_features = cal_vif(X.astype(float))"
   ]
  },
  {
   "cell_type": "code",
   "execution_count": 1054,
   "metadata": {},
   "outputs": [
    {
     "data": {
      "text/plain": [
       "Index(['Destination_target', 'Cabin_Deck_target', 'Cabins_Deck_BCDT',\n",
       "       'Cabin_Decks_AFGE', 'Cabin_DeckB', 'HomePlanet_Earth',\n",
       "       'Route_Europa_TRAPPIST-1e', 'TotalSpend', 'RoomService_log',\n",
       "       'FoodCourt_log', 'ShoppingMall_log', 'Spa_log', 'VRDeck_log',\n",
       "       'RoomService+VRDeck_Spend', 'ShoppingMall+Spa_Spend',\n",
       "       'ShoppingMall+VRDeck_Spend', 'Spa+VRDeck_Spend', 'Age_log',\n",
       "       'Age_Infant', 'Age_Child', 'Cabin_Deck_CryoSleep_B',\n",
       "       'Cabin_Deck_CryoSleep_F', 'Cabin_Deck_CryoSleep_G',\n",
       "       'Cabin_Deck_CryoSleep_C', 'Destination_CryoSleep_TRAPPIST-1e',\n",
       "       'Destination_CryoSleep_55 Cancri e', 'Cabin_Side_P_Cryosleep',\n",
       "       'Route_Earth_TRAPPIST-1eAge_log', 'Route_Mars_TRAPPIST-1eCyroSleep',\n",
       "       'Route_Mars_TRAPPIST-1eAge_Child', 'Route_Europa_TRAPPIST-1eCyroSleep',\n",
       "       'Route_Europa_55 Cancri eCyroSleep', 'Route_Europa_55 Cancri eAge_log'],\n",
       "      dtype='object')"
      ]
     },
     "execution_count": 1054,
     "metadata": {},
     "output_type": "execute_result"
    }
   ],
   "source": [
    "vif_selected_features.columns"
   ]
  },
  {
   "cell_type": "code",
   "execution_count": 1055,
   "metadata": {},
   "outputs": [],
   "source": [
    "X=labelled[vif_selected_features.columns]"
   ]
  },
  {
   "cell_type": "markdown",
   "metadata": {},
   "source": [
    "**Normalizing/Scaling the Data**"
   ]
  },
  {
   "cell_type": "code",
   "execution_count": 1056,
   "metadata": {},
   "outputs": [],
   "source": [
    "scaler = StandardScaler()\n",
    "scaler.fit(X)\n",
    "X=pd.DataFrame(scaler.transform(X),index=X.index, columns=X.columns)"
   ]
  },
  {
   "cell_type": "markdown",
   "metadata": {},
   "source": [
    "**Wrapper (Forward Step Selection with Logistic Regression)**"
   ]
  },
  {
   "cell_type": "code",
   "execution_count": 1057,
   "metadata": {},
   "outputs": [
    {
     "data": {
      "text/plain": [
       "SequentialFeatureSelector(cv=3, estimator=LogisticRegression(max_iter=10000),\n",
       "                          floating=True, forward=False, k_features=(15, 33))"
      ]
     },
     "execution_count": 1057,
     "metadata": {},
     "output_type": "execute_result"
    }
   ],
   "source": [
    "## Selecting the 20-30\n",
    "\n",
    "sfs1 = SFS(RandomForestRegressor(n_estimators=50),\n",
    "           k_features=(10,len(X.columns)),\n",
    "           forward=False,\n",
    "           floating=True,cv=3)\n",
    "sfs1.fit(X, y)"
   ]
  },
  {
   "cell_type": "code",
   "execution_count": 1058,
   "metadata": {},
   "outputs": [
    {
     "data": {
      "image/png": "[encoded data removed]",
      "text/plain": [
       "<Figure size 1008x288 with 1 Axes>"
      ]
     },
     "metadata": {
      "needs_background": "light"
     },
     "output_type": "display_data"
    }
   ],
   "source": [
    "fig = plot_sfs(sfs1.get_metric_dict(), kind='std_err',figsize=(14, 4))\n",
    "\n",
    "\n",
    "plt.title('Sequential Forward Selection (w. StdErr)')\n",
    "plt.grid()\n",
    "plt.show()"
   ]
  },
  {
   "cell_type": "code",
   "execution_count": 1059,
   "metadata": {},
   "outputs": [
    {
     "name": "stdout",
     "output_type": "stream",
     "text": [
      "22 Features and Accuracy Score: 0.8003005814459941\n"
     ]
    }
   ],
   "source": [
    "print(f'{len(sfs1.k_feature_names_)} Features and Accuracy Score: {sfs1.k_score_}')"
   ]
  },
  {
   "cell_type": "code",
   "execution_count": 1060,
   "metadata": {},
   "outputs": [
    {
     "data": {
      "text/plain": [
       "['Destination_target',\n",
       " 'Cabin_Deck_target',\n",
       " 'Cabins_Deck_BCDT',\n",
       " 'TotalSpend',\n",
       " 'RoomService_log',\n",
       " 'VRDeck_log',\n",
       " 'RoomService+VRDeck_Spend',\n",
       " 'ShoppingMall+Spa_Spend',\n",
       " 'ShoppingMall+VRDeck_Spend',\n",
       " 'Age_Infant',\n",
       " 'Age_Child',\n",
       " 'Cabin_Deck_CryoSleep_B',\n",
       " 'Cabin_Deck_CryoSleep_F',\n",
       " 'Cabin_Deck_CryoSleep_G',\n",
       " 'Cabin_Deck_CryoSleep_C',\n",
       " 'Destination_CryoSleep_TRAPPIST-1e',\n",
       " 'Cabin_Side_P_Cryosleep',\n",
       " 'Route_Mars_TRAPPIST-1eCyroSleep',\n",
       " 'Route_Mars_TRAPPIST-1eAge_Child',\n",
       " 'Route_Europa_TRAPPIST-1eCyroSleep',\n",
       " 'Route_Europa_55 Cancri eCyroSleep',\n",
       " 'Route_Europa_55 Cancri eAge_log']"
      ]
     },
     "execution_count": 1060,
     "metadata": {},
     "output_type": "execute_result"
    }
   ],
   "source": [
    "predictors=list(sfs1.k_feature_names_)\n",
    "predictors"
   ]
  },
  {
   "cell_type": "markdown",
   "metadata": {},
   "source": [
    "## 4. Preperation for Modelling"
   ]
  },
  {
   "cell_type": "markdown",
   "metadata": {},
   "source": [
    "**Preparing for submission**"
   ]
  },
  {
   "cell_type": "code",
   "execution_count": 1061,
   "metadata": {},
   "outputs": [],
   "source": [
    "submissiontest=data[data['Transported'].notnull()==False]"
   ]
  },
  {
   "cell_type": "code",
   "execution_count": 1062,
   "metadata": {},
   "outputs": [],
   "source": [
    "X=labelled[predictors]\n",
    "y=labelled['Transported'].astype(int) "
   ]
  },
  {
   "cell_type": "markdown",
   "metadata": {},
   "source": [
    "**Normalizing/Scaling the Data**"
   ]
  },
  {
   "cell_type": "code",
   "execution_count": 1063,
   "metadata": {},
   "outputs": [],
   "source": [
    "scaler = StandardScaler()\n",
    "scaler.fit(X)\n",
    "X=pd.DataFrame(scaler.transform(X),index=X.index, columns=X.columns)"
   ]
  },
  {
   "cell_type": "markdown",
   "metadata": {},
   "source": [
    "**Principal Components Analysis (Optional)**"
   ]
  },
  {
   "cell_type": "raw",
   "metadata": {},
   "source": [
    "pca = PCA().fit(X)\n",
    "plt.plot(np.cumsum(pca.explained_variance_ratio_))\n",
    "plt.xlabel('number of components')\n",
    "plt.ylabel('cumulative explained variance');"
   ]
  },
  {
   "cell_type": "raw",
   "metadata": {},
   "source": [
    "components=sum(np.cumsum(pca.explained_variance_ratio_)<=0.99)\n",
    "pca = PCA(n_components=components) \n",
    "X = pca.fit_transform(X) "
   ]
  },
  {
   "cell_type": "markdown",
   "metadata": {},
   "source": [
    "**Splitting Training and Test**"
   ]
  },
  {
   "cell_type": "code",
   "execution_count": 1064,
   "metadata": {},
   "outputs": [],
   "source": [
    "X_train, X_test, y_train, y_test = train_test_split(X, y, test_size = 0.3,stratify = y)"
   ]
  },
  {
   "cell_type": "markdown",
   "metadata": {},
   "source": [
    "**Fixing Target Leak**"
   ]
  },
  {
   "cell_type": "code",
   "execution_count": 1065,
   "metadata": {},
   "outputs": [
    {
     "name": "stdout",
     "output_type": "stream",
     "text": [
      "The number of target encoded variables is: 2\n",
      "Index(['Destination_target', 'Cabin_Deck_target'], dtype='object')\n"
     ]
    }
   ],
   "source": [
    "## Identifying which variables are target encoded\n",
    "target_cols=X_train.columns[X_train.columns.str.contains('target')]\n",
    "\n",
    "print(f'''The number of target encoded variables is: {len(target_cols)}''')\n",
    "\n",
    "print(target_cols)"
   ]
  },
  {
   "cell_type": "code",
   "execution_count": 1066,
   "metadata": {},
   "outputs": [
    {
     "data": {
      "text/plain": [
       "Index(['Destination_target', 'Cabin_Deck_target'], dtype='object')"
      ]
     },
     "execution_count": 1066,
     "metadata": {},
     "output_type": "execute_result"
    }
   ],
   "source": [
    "target_cols"
   ]
  },
  {
   "cell_type": "code",
   "execution_count": 1067,
   "metadata": {},
   "outputs": [],
   "source": [
    "if target_cols.size>0:\n",
    "    \n",
    "    ## removing the target string\n",
    "    cols=[]\n",
    "    for a_string in target_cols:\n",
    "        new_string = a_string.replace(\"_target\", \"\")\n",
    "        cols.append(new_string)\n",
    "\n",
    "    ## Identifying the X_train passengers in the original dataset\n",
    "    intersection = set(X_train.index).intersection(labelled.index) \n",
    "\n",
    "    ##Filling the missing values that we previously did\n",
    "\n",
    "    for var in cols:\n",
    "        train[var]=train[var].fillna(train[var].mode()[0])\n",
    "\n",
    "    ## Extracting their rows\n",
    "    train_encoding=train[train['PassengerId'].isin(intersection)]\n",
    "    train_encoding=train_encoding.set_index('PassengerId', drop=True)\n",
    "\n",
    "\n",
    "    ## Recalculating Target Encoding\n",
    "    for var in cols:\n",
    "        train_encoding[str(var)+'_target']= train_encoding[var].map(dict(train.groupby(var)['Transported'].mean()))\n",
    "\n",
    "    ## Sorting the values of X_train so that passenger index matches the target encoding table\n",
    "    X_train=X_train.sort_index()\n",
    "    y_train=y_train.sort_index()\n",
    "\n",
    "    ## Adding the columns\n",
    "    for var in cols:\n",
    "        X_train[str(var)+'_target'] =train_encoding[str(var)+'_target']\n",
    "\n",
    "    ## Repeating for X test\n",
    "    test_encoding=train[~train['PassengerId'].isin(intersection)]\n",
    "    test_encoding=test_encoding.set_index('PassengerId', drop=True)\n",
    "\n",
    "    for var in cols:\n",
    "        test_encoding[str(var)+'_target']= test_encoding[var].map(dict(train_encoding.groupby(var)['Transported'].mean()))\n",
    "\n",
    "    X_test=X_test.sort_index()\n",
    "    y_test=y_test.sort_index()\n",
    "    \n",
    "    for var in cols:\n",
    "        X_test[str(var)+'_target'] =test_encoding[str(var)+'_target']\n",
    "    "
   ]
  },
  {
   "cell_type": "markdown",
   "metadata": {},
   "source": [
    "## 5. Modelling"
   ]
  },
  {
   "cell_type": "markdown",
   "metadata": {},
   "source": [
    "**Exploring different models**"
   ]
  },
  {
   "cell_type": "code",
   "execution_count": 1068,
   "metadata": {
    "scrolled": true
   },
   "outputs": [
    {
     "name": "stdout",
     "output_type": "stream",
     "text": [
      "LogisticRegression(max_iter=10000)\n",
      "Train model score: 0.799\n",
      "Test model Score: 0.808\n",
      "\n",
      "\n",
      "RandomForestClassifier()\n",
      "Train model score: 0.919\n",
      "Test model Score: 0.798\n",
      "\n",
      "\n",
      "GradientBoostingClassifier()\n",
      "Train model score: 0.801\n",
      "Test model Score: 0.799\n",
      "\n",
      "\n",
      "AdaBoostClassifier()\n",
      "Train model score: 0.787\n",
      "Test model Score: 0.786\n",
      "\n",
      "\n",
      "LGBMClassifier()\n",
      "Train model score: 0.855\n",
      "Test model Score: 0.808\n",
      "\n",
      "\n",
      "<catboost.core.CatBoostClassifier object at 0x7fc4c9f536d0>\n",
      "Train model score: 0.841\n",
      "Test model Score: 0.812\n",
      "\n",
      "\n",
      "XGBClassifier(base_score=0.5, booster='gbtree', colsample_bylevel=1,\n",
      "              colsample_bynode=1, colsample_bytree=1,\n",
      "              disable_default_eval_metric=True, gamma=0, gpu_id=-1,\n",
      "              importance_type='gain', interaction_constraints='',\n",
      "              learning_rate=0.300000012, max_delta_step=0, max_depth=6,\n",
      "              min_child_weight=1, missing=nan, monotone_constraints='()',\n",
      "              n_estimators=100, n_jobs=0, num_parallel_tree=1, random_state=0,\n",
      "              reg_alpha=0, reg_lambda=1, scale_pos_weight=1, subsample=1,\n",
      "              tree_method='exact', validate_parameters=1, verbosity=None)\n",
      "Train model score: 0.889\n",
      "Test model Score: 0.805\n",
      "\n",
      "\n"
     ]
    }
   ],
   "source": [
    "models=[]\n",
    "train_scores1=[]\n",
    "test_scores1=[]\n",
    "\n",
    "classifiers = [\n",
    "    LogisticRegression(max_iter=10000),\n",
    "    RandomForestClassifier(),\n",
    "    GradientBoostingClassifier(),\n",
    "    AdaBoostClassifier(),\n",
    "    lgb.LGBMClassifier(),\n",
    "    CatBoostClassifier(verbose=False),\n",
    "    XGBClassifier(disable_default_eval_metric = True)]\n",
    "\n",
    "for classifier in classifiers:\n",
    "    classifier.fit(X_train, y_train) \n",
    "    y_pred=classifier.predict(X_test)\n",
    "    print(classifier)\n",
    "    print(\"Train model score: %.3f\" % classifier.score(X_train, y_train))\n",
    "    print(\"Test model Score: %.3f\" % classifier.score(X_test, y_test))\n",
    "    models.append(type(classifier).__name__)\n",
    "    train_scores1.append(classifier.score(X_train, y_train))\n",
    "    test_scores1.append(classifier.score(X_test, y_test))\n",
    "    print(\"\\n\")\n",
    "\n",
    "    "
   ]
  },
  {
   "cell_type": "code",
   "execution_count": 1069,
   "metadata": {},
   "outputs": [
    {
     "data": {
      "text/html": [
       "<div>\n",
       "<style scoped>\n",
       "    .dataframe tbody tr th:only-of-type {\n",
       "        vertical-align: middle;\n",
       "    }\n",
       "\n",
       "    .dataframe tbody tr th {\n",
       "        vertical-align: top;\n",
       "    }\n",
       "\n",
       "    .dataframe thead th {\n",
       "        text-align: right;\n",
       "    }\n",
       "</style>\n",
       "<table border=\"1\" class=\"dataframe\">\n",
       "  <thead>\n",
       "    <tr style=\"text-align: right;\">\n",
       "      <th></th>\n",
       "      <th>Train</th>\n",
       "      <th>Test</th>\n",
       "    </tr>\n",
       "  </thead>\n",
       "  <tbody>\n",
       "    <tr>\n",
       "      <th>LogisticRegression</th>\n",
       "      <td>0.798850</td>\n",
       "      <td>0.807515</td>\n",
       "    </tr>\n",
       "    <tr>\n",
       "      <th>RandomForestClassifier</th>\n",
       "      <td>0.919310</td>\n",
       "      <td>0.797546</td>\n",
       "    </tr>\n",
       "    <tr>\n",
       "      <th>GradientBoostingClassifier</th>\n",
       "      <td>0.801479</td>\n",
       "      <td>0.799463</td>\n",
       "    </tr>\n",
       "    <tr>\n",
       "      <th>AdaBoostClassifier</th>\n",
       "      <td>0.786524</td>\n",
       "      <td>0.786426</td>\n",
       "    </tr>\n",
       "    <tr>\n",
       "      <th>LGBMClassifier</th>\n",
       "      <td>0.854560</td>\n",
       "      <td>0.808282</td>\n",
       "    </tr>\n",
       "    <tr>\n",
       "      <th>CatBoostClassifier</th>\n",
       "      <td>0.840756</td>\n",
       "      <td>0.812117</td>\n",
       "    </tr>\n",
       "    <tr>\n",
       "      <th>XGBClassifier</th>\n",
       "      <td>0.889400</td>\n",
       "      <td>0.804831</td>\n",
       "    </tr>\n",
       "  </tbody>\n",
       "</table>\n",
       "</div>"
      ],
      "text/plain": [
       "                               Train      Test\n",
       "LogisticRegression          0.798850  0.807515\n",
       "RandomForestClassifier      0.919310  0.797546\n",
       "GradientBoostingClassifier  0.801479  0.799463\n",
       "AdaBoostClassifier          0.786524  0.786426\n",
       "LGBMClassifier              0.854560  0.808282\n",
       "CatBoostClassifier          0.840756  0.812117\n",
       "XGBClassifier               0.889400  0.804831"
      ]
     },
     "execution_count": 1069,
     "metadata": {},
     "output_type": "execute_result"
    }
   ],
   "source": [
    "scores=pd.DataFrame({\n",
    "    'Train': train_scores1,\n",
    "    'Test':  test_scores1},index=models)\n",
    "scores"
   ]
  },
  {
   "cell_type": "code",
   "execution_count": 1070,
   "metadata": {},
   "outputs": [
    {
     "data": {
      "application/vnd.plotly.v1+json": {
       "config": {
        "plotlyServerURL": "https://plot.ly"
       },
       "data": [
        {
         "alignmentgroup": "True",
         "bingroup": "x",
         "histfunc": "sum",
         "hovertemplate": "variable=Train<br>index=%{x}<br>sum of value=%{y}<extra></extra>",
         "legendgroup": "Train",
         "marker": {
          "color": "#636efa"
         },
         "name": "Train",
         "offsetgroup": "Train",
         "orientation": "v",
         "showlegend": true,
         "type": "histogram",
         "x": [
          "LogisticRegression",
          "RandomForestClassifier",
          "GradientBoostingClassifier",
          "AdaBoostClassifier",
          "LGBMClassifier",
          "CatBoostClassifier",
          "XGBClassifier"
         ],
         "xaxis": "x",
         "y": [
          0.7988496302382909,
          0.9193097781429745,
          0.8014790468364832,
          0.7865242399342646,
          0.8545603944124898,
          0.8407559572719803,
          0.8894001643385374
         ],
         "yaxis": "y"
        },
        {
         "alignmentgroup": "True",
         "bingroup": "x",
         "histfunc": "sum",
         "hovertemplate": "variable=Test<br>index=%{x}<br>sum of value=%{y}<extra></extra>",
         "legendgroup": "Test",
         "marker": {
          "color": "#EF553B"
         },
         "name": "Test",
         "offsetgroup": "Test",
         "orientation": "v",
         "showlegend": true,
         "type": "histogram",
         "x": [
          "LogisticRegression",
          "RandomForestClassifier",
          "GradientBoostingClassifier",
          "AdaBoostClassifier",
          "LGBMClassifier",
          "CatBoostClassifier",
          "XGBClassifier"
         ],
         "xaxis": "x",
         "y": [
          0.8075153374233128,
          0.7975460122699386,
          0.7994631901840491,
          0.7864263803680982,
          0.808282208588957,
          0.8121165644171779,
          0.8048312883435583
         ],
         "yaxis": "y"
        }
       ],
       "layout": {
        "barmode": "group",
        "height": 500,
        "legend": {
         "title": {
          "text": ""
         },
         "tracegroupgap": 0
        },
        "margin": {
         "t": 60
        },
        "template": {
         "data": {
          "bar": [
           {
            "error_x": {
             "color": "#2a3f5f"
            },
            "error_y": {
             "color": "#2a3f5f"
            },
            "marker": {
             "line": {
              "color": "#E5ECF6",
              "width": 0.5
             }
            },
            "type": "bar"
           }
          ],
          "barpolar": [
           {
            "marker": {
             "line": {
              "color": "#E5ECF6",
              "width": 0.5
             }
            },
            "type": "barpolar"
           }
          ],
          "carpet": [
           {
            "aaxis": {
             "endlinecolor": "#2a3f5f",
             "gridcolor": "white",
             "linecolor": "white",
             "minorgridcolor": "white",
             "startlinecolor": "#2a3f5f"
            },
            "baxis": {
             "endlinecolor": "#2a3f5f",
             "gridcolor": "white",
             "linecolor": "white",
             "minorgridcolor": "white",
             "startlinecolor": "#2a3f5f"
            },
            "type": "carpet"
           }
          ],
          "choropleth": [
           {
            "colorbar": {
             "outlinewidth": 0,
             "ticks": ""
            },
            "type": "choropleth"
           }
          ],
          "contour": [
           {
            "colorbar": {
             "outlinewidth": 0,
             "ticks": ""
            },
            "colorscale": [
             [
              0,
              "#0d0887"
             ],
             [
              0.1111111111111111,
              "#46039f"
             ],
             [
              0.2222222222222222,
              "#7201a8"
             ],
             [
              0.3333333333333333,
              "#9c179e"
             ],
             [
              0.4444444444444444,
              "#bd3786"
             ],
             [
              0.5555555555555556,
              "#d8576b"
             ],
             [
              0.6666666666666666,
              "#ed7953"
             ],
             [
              0.7777777777777778,
              "#fb9f3a"
             ],
             [
              0.8888888888888888,
              "#fdca26"
             ],
             [
              1,
              "#f0f921"
             ]
            ],
            "type": "contour"
           }
          ],
          "contourcarpet": [
           {
            "colorbar": {
             "outlinewidth": 0,
             "ticks": ""
            },
            "type": "contourcarpet"
           }
          ],
          "heatmap": [
           {
            "colorbar": {
             "outlinewidth": 0,
             "ticks": ""
            },
            "colorscale": [
             [
              0,
              "#0d0887"
             ],
             [
              0.1111111111111111,
              "#46039f"
             ],
             [
              0.2222222222222222,
              "#7201a8"
             ],
             [
              0.3333333333333333,
              "#9c179e"
             ],
             [
              0.4444444444444444,
              "#bd3786"
             ],
             [
              0.5555555555555556,
              "#d8576b"
             ],
             [
              0.6666666666666666,
              "#ed7953"
             ],
             [
              0.7777777777777778,
              "#fb9f3a"
             ],
             [
              0.8888888888888888,
              "#fdca26"
             ],
             [
              1,
              "#f0f921"
             ]
            ],
            "type": "heatmap"
           }
          ],
          "heatmapgl": [
           {
            "colorbar": {
             "outlinewidth": 0,
             "ticks": ""
            },
            "colorscale": [
             [
              0,
              "#0d0887"
             ],
             [
              0.1111111111111111,
              "#46039f"
             ],
             [
              0.2222222222222222,
              "#7201a8"
             ],
             [
              0.3333333333333333,
              "#9c179e"
             ],
             [
              0.4444444444444444,
              "#bd3786"
             ],
             [
              0.5555555555555556,
              "#d8576b"
             ],
             [
              0.6666666666666666,
              "#ed7953"
             ],
             [
              0.7777777777777778,
              "#fb9f3a"
             ],
             [
              0.8888888888888888,
              "#fdca26"
             ],
             [
              1,
              "#f0f921"
             ]
            ],
            "type": "heatmapgl"
           }
          ],
          "histogram": [
           {
            "marker": {
             "colorbar": {
              "outlinewidth": 0,
              "ticks": ""
             }
            },
            "type": "histogram"
           }
          ],
          "histogram2d": [
           {
            "colorbar": {
             "outlinewidth": 0,
             "ticks": ""
            },
            "colorscale": [
             [
              0,
              "#0d0887"
             ],
             [
              0.1111111111111111,
              "#46039f"
             ],
             [
              0.2222222222222222,
              "#7201a8"
             ],
             [
              0.3333333333333333,
              "#9c179e"
             ],
             [
              0.4444444444444444,
              "#bd3786"
             ],
             [
              0.5555555555555556,
              "#d8576b"
             ],
             [
              0.6666666666666666,
              "#ed7953"
             ],
             [
              0.7777777777777778,
              "#fb9f3a"
             ],
             [
              0.8888888888888888,
              "#fdca26"
             ],
             [
              1,
              "#f0f921"
             ]
            ],
            "type": "histogram2d"
           }
          ],
          "histogram2dcontour": [
           {
            "colorbar": {
             "outlinewidth": 0,
             "ticks": ""
            },
            "colorscale": [
             [
              0,
              "#0d0887"
             ],
             [
              0.1111111111111111,
              "#46039f"
             ],
             [
              0.2222222222222222,
              "#7201a8"
             ],
             [
              0.3333333333333333,
              "#9c179e"
             ],
             [
              0.4444444444444444,
              "#bd3786"
             ],
             [
              0.5555555555555556,
              "#d8576b"
             ],
             [
              0.6666666666666666,
              "#ed7953"
             ],
             [
              0.7777777777777778,
              "#fb9f3a"
             ],
             [
              0.8888888888888888,
              "#fdca26"
             ],
             [
              1,
              "#f0f921"
             ]
            ],
            "type": "histogram2dcontour"
           }
          ],
          "mesh3d": [
           {
            "colorbar": {
             "outlinewidth": 0,
             "ticks": ""
            },
            "type": "mesh3d"
           }
          ],
          "parcoords": [
           {
            "line": {
             "colorbar": {
              "outlinewidth": 0,
              "ticks": ""
             }
            },
            "type": "parcoords"
           }
          ],
          "pie": [
           {
            "automargin": true,
            "type": "pie"
           }
          ],
          "scatter": [
           {
            "marker": {
             "colorbar": {
              "outlinewidth": 0,
              "ticks": ""
             }
            },
            "type": "scatter"
           }
          ],
          "scatter3d": [
           {
            "line": {
             "colorbar": {
              "outlinewidth": 0,
              "ticks": ""
             }
            },
            "marker": {
             "colorbar": {
              "outlinewidth": 0,
              "ticks": ""
             }
            },
            "type": "scatter3d"
           }
          ],
          "scattercarpet": [
           {
            "marker": {
             "colorbar": {
              "outlinewidth": 0,
              "ticks": ""
             }
            },
            "type": "scattercarpet"
           }
          ],
          "scattergeo": [
           {
            "marker": {
             "colorbar": {
              "outlinewidth": 0,
              "ticks": ""
             }
            },
            "type": "scattergeo"
           }
          ],
          "scattergl": [
           {
            "marker": {
             "colorbar": {
              "outlinewidth": 0,
              "ticks": ""
             }
            },
            "type": "scattergl"
           }
          ],
          "scattermapbox": [
           {
            "marker": {
             "colorbar": {
              "outlinewidth": 0,
              "ticks": ""
             }
            },
            "type": "scattermapbox"
           }
          ],
          "scatterpolar": [
           {
            "marker": {
             "colorbar": {
              "outlinewidth": 0,
              "ticks": ""
             }
            },
            "type": "scatterpolar"
           }
          ],
          "scatterpolargl": [
           {
            "marker": {
             "colorbar": {
              "outlinewidth": 0,
              "ticks": ""
             }
            },
            "type": "scatterpolargl"
           }
          ],
          "scatterternary": [
           {
            "marker": {
             "colorbar": {
              "outlinewidth": 0,
              "ticks": ""
             }
            },
            "type": "scatterternary"
           }
          ],
          "surface": [
           {
            "colorbar": {
             "outlinewidth": 0,
             "ticks": ""
            },
            "colorscale": [
             [
              0,
              "#0d0887"
             ],
             [
              0.1111111111111111,
              "#46039f"
             ],
             [
              0.2222222222222222,
              "#7201a8"
             ],
             [
              0.3333333333333333,
              "#9c179e"
             ],
             [
              0.4444444444444444,
              "#bd3786"
             ],
             [
              0.5555555555555556,
              "#d8576b"
             ],
             [
              0.6666666666666666,
              "#ed7953"
             ],
             [
              0.7777777777777778,
              "#fb9f3a"
             ],
             [
              0.8888888888888888,
              "#fdca26"
             ],
             [
              1,
              "#f0f921"
             ]
            ],
            "type": "surface"
           }
          ],
          "table": [
           {
            "cells": {
             "fill": {
              "color": "#EBF0F8"
             },
             "line": {
              "color": "white"
             }
            },
            "header": {
             "fill": {
              "color": "#C8D4E3"
             },
             "line": {
              "color": "white"
             }
            },
            "type": "table"
           }
          ]
         },
         "layout": {
          "annotationdefaults": {
           "arrowcolor": "#2a3f5f",
           "arrowhead": 0,
           "arrowwidth": 1
          },
          "coloraxis": {
           "colorbar": {
            "outlinewidth": 0,
            "ticks": ""
           }
          },
          "colorscale": {
           "diverging": [
            [
             0,
             "#8e0152"
            ],
            [
             0.1,
             "#c51b7d"
            ],
            [
             0.2,
             "#de77ae"
            ],
            [
             0.3,
             "#f1b6da"
            ],
            [
             0.4,
             "#fde0ef"
            ],
            [
             0.5,
             "#f7f7f7"
            ],
            [
             0.6,
             "#e6f5d0"
            ],
            [
             0.7,
             "#b8e186"
            ],
            [
             0.8,
             "#7fbc41"
            ],
            [
             0.9,
             "#4d9221"
            ],
            [
             1,
             "#276419"
            ]
           ],
           "sequential": [
            [
             0,
             "#0d0887"
            ],
            [
             0.1111111111111111,
             "#46039f"
            ],
            [
             0.2222222222222222,
             "#7201a8"
            ],
            [
             0.3333333333333333,
             "#9c179e"
            ],
            [
             0.4444444444444444,
             "#bd3786"
            ],
            [
             0.5555555555555556,
             "#d8576b"
            ],
            [
             0.6666666666666666,
             "#ed7953"
            ],
            [
             0.7777777777777778,
             "#fb9f3a"
            ],
            [
             0.8888888888888888,
             "#fdca26"
            ],
            [
             1,
             "#f0f921"
            ]
           ],
           "sequentialminus": [
            [
             0,
             "#0d0887"
            ],
            [
             0.1111111111111111,
             "#46039f"
            ],
            [
             0.2222222222222222,
             "#7201a8"
            ],
            [
             0.3333333333333333,
             "#9c179e"
            ],
            [
             0.4444444444444444,
             "#bd3786"
            ],
            [
             0.5555555555555556,
             "#d8576b"
            ],
            [
             0.6666666666666666,
             "#ed7953"
            ],
            [
             0.7777777777777778,
             "#fb9f3a"
            ],
            [
             0.8888888888888888,
             "#fdca26"
            ],
            [
             1,
             "#f0f921"
            ]
           ]
          },
          "colorway": [
           "#636efa",
           "#EF553B",
           "#00cc96",
           "#ab63fa",
           "#FFA15A",
           "#19d3f3",
           "#FF6692",
           "#B6E880",
           "#FF97FF",
           "#FECB52"
          ],
          "font": {
           "color": "#2a3f5f"
          },
          "geo": {
           "bgcolor": "white",
           "lakecolor": "white",
           "landcolor": "#E5ECF6",
           "showlakes": true,
           "showland": true,
           "subunitcolor": "white"
          },
          "hoverlabel": {
           "align": "left"
          },
          "hovermode": "closest",
          "mapbox": {
           "style": "light"
          },
          "paper_bgcolor": "white",
          "plot_bgcolor": "#E5ECF6",
          "polar": {
           "angularaxis": {
            "gridcolor": "white",
            "linecolor": "white",
            "ticks": ""
           },
           "bgcolor": "#E5ECF6",
           "radialaxis": {
            "gridcolor": "white",
            "linecolor": "white",
            "ticks": ""
           }
          },
          "scene": {
           "xaxis": {
            "backgroundcolor": "#E5ECF6",
            "gridcolor": "white",
            "gridwidth": 2,
            "linecolor": "white",
            "showbackground": true,
            "ticks": "",
            "zerolinecolor": "white"
           },
           "yaxis": {
            "backgroundcolor": "#E5ECF6",
            "gridcolor": "white",
            "gridwidth": 2,
            "linecolor": "white",
            "showbackground": true,
            "ticks": "",
            "zerolinecolor": "white"
           },
           "zaxis": {
            "backgroundcolor": "#E5ECF6",
            "gridcolor": "white",
            "gridwidth": 2,
            "linecolor": "white",
            "showbackground": true,
            "ticks": "",
            "zerolinecolor": "white"
           }
          },
          "shapedefaults": {
           "line": {
            "color": "#2a3f5f"
           }
          },
          "ternary": {
           "aaxis": {
            "gridcolor": "white",
            "linecolor": "white",
            "ticks": ""
           },
           "baxis": {
            "gridcolor": "white",
            "linecolor": "white",
            "ticks": ""
           },
           "bgcolor": "#E5ECF6",
           "caxis": {
            "gridcolor": "white",
            "linecolor": "white",
            "ticks": ""
           }
          },
          "title": {
           "x": 0.05
          },
          "xaxis": {
           "automargin": true,
           "gridcolor": "white",
           "linecolor": "white",
           "ticks": "",
           "title": {
            "standoff": 15
           },
           "zerolinecolor": "white",
           "zerolinewidth": 2
          },
          "yaxis": {
           "automargin": true,
           "gridcolor": "white",
           "linecolor": "white",
           "ticks": "",
           "title": {
            "standoff": 15
           },
           "zerolinecolor": "white",
           "zerolinewidth": 2
          }
         }
        },
        "title": {
         "text": "Model Comparison (Train & Test Scores)",
         "x": 0.5
        },
        "xaxis": {
         "anchor": "y",
         "domain": [
          0,
          1
         ],
         "title": {
          "text": "Models"
         }
        },
        "yaxis": {
         "anchor": "x",
         "domain": [
          0,
          1
         ],
         "range": [
          0.7364263803680982,
          0.9693097781429746
         ],
         "title": {
          "text": "Accuracy Score"
         }
        }
       }
      },
      "text/html": [
       "<div>\n",
       "        \n",
       "        \n",
       "            <div id=\"782fcc52-166f-4c4d-9fca-8217c950cd1f\" class=\"plotly-graph-div\" style=\"height:500px; width:100%;\"></div>\n",
       "            <script type=\"text/javascript\">\n",
       "                require([\"plotly\"], function(Plotly) {\n",
       "                    window.PLOTLYENV=window.PLOTLYENV || {};\n",
       "                    \n",
       "                if (document.getElementById(\"782fcc52-166f-4c4d-9fca-8217c950cd1f\")) {\n",
       "                    Plotly.newPlot(\n",
       "                        '782fcc52-166f-4c4d-9fca-8217c950cd1f',\n",
       "                        [{\"alignmentgroup\": \"True\", \"bingroup\": \"x\", \"histfunc\": \"sum\", \"hovertemplate\": \"variable=Train<br>index=%{x}<br>sum of value=%{y}<extra></extra>\", \"legendgroup\": \"Train\", \"marker\": {\"color\": \"#636efa\"}, \"name\": \"Train\", \"offsetgroup\": \"Train\", \"orientation\": \"v\", \"showlegend\": true, \"type\": \"histogram\", \"x\": [\"LogisticRegression\", \"RandomForestClassifier\", \"GradientBoostingClassifier\", \"AdaBoostClassifier\", \"LGBMClassifier\", \"CatBoostClassifier\", \"XGBClassifier\"], \"xaxis\": \"x\", \"y\": [0.7988496302382909, 0.9193097781429745, 0.8014790468364832, 0.7865242399342646, 0.8545603944124898, 0.8407559572719803, 0.8894001643385374], \"yaxis\": \"y\"}, {\"alignmentgroup\": \"True\", \"bingroup\": \"x\", \"histfunc\": \"sum\", \"hovertemplate\": \"variable=Test<br>index=%{x}<br>sum of value=%{y}<extra></extra>\", \"legendgroup\": \"Test\", \"marker\": {\"color\": \"#EF553B\"}, \"name\": \"Test\", \"offsetgroup\": \"Test\", \"orientation\": \"v\", \"showlegend\": true, \"type\": \"histogram\", \"x\": [\"LogisticRegression\", \"RandomForestClassifier\", \"GradientBoostingClassifier\", \"AdaBoostClassifier\", \"LGBMClassifier\", \"CatBoostClassifier\", \"XGBClassifier\"], \"xaxis\": \"x\", \"y\": [0.8075153374233128, 0.7975460122699386, 0.7994631901840491, 0.7864263803680982, 0.808282208588957, 0.8121165644171779, 0.8048312883435583], \"yaxis\": \"y\"}],\n",
       "                        {\"barmode\": \"group\", \"height\": 500, \"legend\": {\"title\": {\"text\": \"\"}, \"tracegroupgap\": 0}, \"margin\": {\"t\": 60}, \"template\": {\"data\": {\"bar\": [{\"error_x\": {\"color\": \"#2a3f5f\"}, \"error_y\": {\"color\": \"#2a3f5f\"}, \"marker\": {\"line\": {\"color\": \"#E5ECF6\", \"width\": 0.5}}, \"type\": \"bar\"}], \"barpolar\": [{\"marker\": {\"line\": {\"color\": \"#E5ECF6\", \"width\": 0.5}}, \"type\": \"barpolar\"}], \"carpet\": [{\"aaxis\": {\"endlinecolor\": \"#2a3f5f\", \"gridcolor\": \"white\", \"linecolor\": \"white\", \"minorgridcolor\": \"white\", \"startlinecolor\": \"#2a3f5f\"}, \"baxis\": {\"endlinecolor\": \"#2a3f5f\", \"gridcolor\": \"white\", \"linecolor\": \"white\", \"minorgridcolor\": \"white\", \"startlinecolor\": \"#2a3f5f\"}, \"type\": \"carpet\"}], \"choropleth\": [{\"colorbar\": {\"outlinewidth\": 0, \"ticks\": \"\"}, \"type\": \"choropleth\"}], \"contour\": [{\"colorbar\": {\"outlinewidth\": 0, \"ticks\": \"\"}, \"colorscale\": [[0.0, \"#0d0887\"], [0.1111111111111111, \"#46039f\"], [0.2222222222222222, \"#7201a8\"], [0.3333333333333333, \"#9c179e\"], [0.4444444444444444, \"#bd3786\"], [0.5555555555555556, \"#d8576b\"], [0.6666666666666666, \"#ed7953\"], [0.7777777777777778, \"#fb9f3a\"], [0.8888888888888888, \"#fdca26\"], [1.0, \"#f0f921\"]], \"type\": \"contour\"}], \"contourcarpet\": [{\"colorbar\": {\"outlinewidth\": 0, \"ticks\": \"\"}, \"type\": \"contourcarpet\"}], \"heatmap\": [{\"colorbar\": {\"outlinewidth\": 0, \"ticks\": \"\"}, \"colorscale\": [[0.0, \"#0d0887\"], [0.1111111111111111, \"#46039f\"], [0.2222222222222222, \"#7201a8\"], [0.3333333333333333, \"#9c179e\"], [0.4444444444444444, \"#bd3786\"], [0.5555555555555556, \"#d8576b\"], [0.6666666666666666, \"#ed7953\"], [0.7777777777777778, \"#fb9f3a\"], [0.8888888888888888, \"#fdca26\"], [1.0, \"#f0f921\"]], \"type\": \"heatmap\"}], \"heatmapgl\": [{\"colorbar\": {\"outlinewidth\": 0, \"ticks\": \"\"}, \"colorscale\": [[0.0, \"#0d0887\"], [0.1111111111111111, \"#46039f\"], [0.2222222222222222, \"#7201a8\"], [0.3333333333333333, \"#9c179e\"], [0.4444444444444444, \"#bd3786\"], [0.5555555555555556, \"#d8576b\"], [0.6666666666666666, \"#ed7953\"], [0.7777777777777778, \"#fb9f3a\"], [0.8888888888888888, \"#fdca26\"], [1.0, \"#f0f921\"]], \"type\": \"heatmapgl\"}], \"histogram\": [{\"marker\": {\"colorbar\": {\"outlinewidth\": 0, \"ticks\": \"\"}}, \"type\": \"histogram\"}], \"histogram2d\": [{\"colorbar\": {\"outlinewidth\": 0, \"ticks\": \"\"}, \"colorscale\": [[0.0, \"#0d0887\"], [0.1111111111111111, \"#46039f\"], [0.2222222222222222, \"#7201a8\"], [0.3333333333333333, \"#9c179e\"], [0.4444444444444444, \"#bd3786\"], [0.5555555555555556, \"#d8576b\"], [0.6666666666666666, \"#ed7953\"], [0.7777777777777778, \"#fb9f3a\"], [0.8888888888888888, \"#fdca26\"], [1.0, \"#f0f921\"]], \"type\": \"histogram2d\"}], \"histogram2dcontour\": [{\"colorbar\": {\"outlinewidth\": 0, \"ticks\": \"\"}, \"colorscale\": [[0.0, \"#0d0887\"], [0.1111111111111111, \"#46039f\"], [0.2222222222222222, \"#7201a8\"], [0.3333333333333333, \"#9c179e\"], [0.4444444444444444, \"#bd3786\"], [0.5555555555555556, \"#d8576b\"], [0.6666666666666666, \"#ed7953\"], [0.7777777777777778, \"#fb9f3a\"], [0.8888888888888888, \"#fdca26\"], [1.0, \"#f0f921\"]], \"type\": \"histogram2dcontour\"}], \"mesh3d\": [{\"colorbar\": {\"outlinewidth\": 0, \"ticks\": \"\"}, \"type\": \"mesh3d\"}], \"parcoords\": [{\"line\": {\"colorbar\": {\"outlinewidth\": 0, \"ticks\": \"\"}}, \"type\": \"parcoords\"}], \"pie\": [{\"automargin\": true, \"type\": \"pie\"}], \"scatter\": [{\"marker\": {\"colorbar\": {\"outlinewidth\": 0, \"ticks\": \"\"}}, \"type\": \"scatter\"}], \"scatter3d\": [{\"line\": {\"colorbar\": {\"outlinewidth\": 0, \"ticks\": \"\"}}, \"marker\": {\"colorbar\": {\"outlinewidth\": 0, \"ticks\": \"\"}}, \"type\": \"scatter3d\"}], \"scattercarpet\": [{\"marker\": {\"colorbar\": {\"outlinewidth\": 0, \"ticks\": \"\"}}, \"type\": \"scattercarpet\"}], \"scattergeo\": [{\"marker\": {\"colorbar\": {\"outlinewidth\": 0, \"ticks\": \"\"}}, \"type\": \"scattergeo\"}], \"scattergl\": [{\"marker\": {\"colorbar\": {\"outlinewidth\": 0, \"ticks\": \"\"}}, \"type\": \"scattergl\"}], \"scattermapbox\": [{\"marker\": {\"colorbar\": {\"outlinewidth\": 0, \"ticks\": \"\"}}, \"type\": \"scattermapbox\"}], \"scatterpolar\": [{\"marker\": {\"colorbar\": {\"outlinewidth\": 0, \"ticks\": \"\"}}, \"type\": \"scatterpolar\"}], \"scatterpolargl\": [{\"marker\": {\"colorbar\": {\"outlinewidth\": 0, \"ticks\": \"\"}}, \"type\": \"scatterpolargl\"}], \"scatterternary\": [{\"marker\": {\"colorbar\": {\"outlinewidth\": 0, \"ticks\": \"\"}}, \"type\": \"scatterternary\"}], \"surface\": [{\"colorbar\": {\"outlinewidth\": 0, \"ticks\": \"\"}, \"colorscale\": [[0.0, \"#0d0887\"], [0.1111111111111111, \"#46039f\"], [0.2222222222222222, \"#7201a8\"], [0.3333333333333333, \"#9c179e\"], [0.4444444444444444, \"#bd3786\"], [0.5555555555555556, \"#d8576b\"], [0.6666666666666666, \"#ed7953\"], [0.7777777777777778, \"#fb9f3a\"], [0.8888888888888888, \"#fdca26\"], [1.0, \"#f0f921\"]], \"type\": \"surface\"}], \"table\": [{\"cells\": {\"fill\": {\"color\": \"#EBF0F8\"}, \"line\": {\"color\": \"white\"}}, \"header\": {\"fill\": {\"color\": \"#C8D4E3\"}, \"line\": {\"color\": \"white\"}}, \"type\": \"table\"}]}, \"layout\": {\"annotationdefaults\": {\"arrowcolor\": \"#2a3f5f\", \"arrowhead\": 0, \"arrowwidth\": 1}, \"coloraxis\": {\"colorbar\": {\"outlinewidth\": 0, \"ticks\": \"\"}}, \"colorscale\": {\"diverging\": [[0, \"#8e0152\"], [0.1, \"#c51b7d\"], [0.2, \"#de77ae\"], [0.3, \"#f1b6da\"], [0.4, \"#fde0ef\"], [0.5, \"#f7f7f7\"], [0.6, \"#e6f5d0\"], [0.7, \"#b8e186\"], [0.8, \"#7fbc41\"], [0.9, \"#4d9221\"], [1, \"#276419\"]], \"sequential\": [[0.0, \"#0d0887\"], [0.1111111111111111, \"#46039f\"], [0.2222222222222222, \"#7201a8\"], [0.3333333333333333, \"#9c179e\"], [0.4444444444444444, \"#bd3786\"], [0.5555555555555556, \"#d8576b\"], [0.6666666666666666, \"#ed7953\"], [0.7777777777777778, \"#fb9f3a\"], [0.8888888888888888, \"#fdca26\"], [1.0, \"#f0f921\"]], \"sequentialminus\": [[0.0, \"#0d0887\"], [0.1111111111111111, \"#46039f\"], [0.2222222222222222, \"#7201a8\"], [0.3333333333333333, \"#9c179e\"], [0.4444444444444444, \"#bd3786\"], [0.5555555555555556, \"#d8576b\"], [0.6666666666666666, \"#ed7953\"], [0.7777777777777778, \"#fb9f3a\"], [0.8888888888888888, \"#fdca26\"], [1.0, \"#f0f921\"]]}, \"colorway\": [\"#636efa\", \"#EF553B\", \"#00cc96\", \"#ab63fa\", \"#FFA15A\", \"#19d3f3\", \"#FF6692\", \"#B6E880\", \"#FF97FF\", \"#FECB52\"], \"font\": {\"color\": \"#2a3f5f\"}, \"geo\": {\"bgcolor\": \"white\", \"lakecolor\": \"white\", \"landcolor\": \"#E5ECF6\", \"showlakes\": true, \"showland\": true, \"subunitcolor\": \"white\"}, \"hoverlabel\": {\"align\": \"left\"}, \"hovermode\": \"closest\", \"mapbox\": {\"style\": \"light\"}, \"paper_bgcolor\": \"white\", \"plot_bgcolor\": \"#E5ECF6\", \"polar\": {\"angularaxis\": {\"gridcolor\": \"white\", \"linecolor\": \"white\", \"ticks\": \"\"}, \"bgcolor\": \"#E5ECF6\", \"radialaxis\": {\"gridcolor\": \"white\", \"linecolor\": \"white\", \"ticks\": \"\"}}, \"scene\": {\"xaxis\": {\"backgroundcolor\": \"#E5ECF6\", \"gridcolor\": \"white\", \"gridwidth\": 2, \"linecolor\": \"white\", \"showbackground\": true, \"ticks\": \"\", \"zerolinecolor\": \"white\"}, \"yaxis\": {\"backgroundcolor\": \"#E5ECF6\", \"gridcolor\": \"white\", \"gridwidth\": 2, \"linecolor\": \"white\", \"showbackground\": true, \"ticks\": \"\", \"zerolinecolor\": \"white\"}, \"zaxis\": {\"backgroundcolor\": \"#E5ECF6\", \"gridcolor\": \"white\", \"gridwidth\": 2, \"linecolor\": \"white\", \"showbackground\": true, \"ticks\": \"\", \"zerolinecolor\": \"white\"}}, \"shapedefaults\": {\"line\": {\"color\": \"#2a3f5f\"}}, \"ternary\": {\"aaxis\": {\"gridcolor\": \"white\", \"linecolor\": \"white\", \"ticks\": \"\"}, \"baxis\": {\"gridcolor\": \"white\", \"linecolor\": \"white\", \"ticks\": \"\"}, \"bgcolor\": \"#E5ECF6\", \"caxis\": {\"gridcolor\": \"white\", \"linecolor\": \"white\", \"ticks\": \"\"}}, \"title\": {\"x\": 0.05}, \"xaxis\": {\"automargin\": true, \"gridcolor\": \"white\", \"linecolor\": \"white\", \"ticks\": \"\", \"title\": {\"standoff\": 15}, \"zerolinecolor\": \"white\", \"zerolinewidth\": 2}, \"yaxis\": {\"automargin\": true, \"gridcolor\": \"white\", \"linecolor\": \"white\", \"ticks\": \"\", \"title\": {\"standoff\": 15}, \"zerolinecolor\": \"white\", \"zerolinewidth\": 2}}}, \"title\": {\"text\": \"Model Comparison (Train & Test Scores)\", \"x\": 0.5}, \"xaxis\": {\"anchor\": \"y\", \"domain\": [0.0, 1.0], \"title\": {\"text\": \"Models\"}}, \"yaxis\": {\"anchor\": \"x\", \"domain\": [0.0, 1.0], \"range\": [0.7364263803680982, 0.9693097781429746], \"title\": {\"text\": \"Accuracy Score\"}}},\n",
       "                        {\"responsive\": true}\n",
       "                    ).then(function(){\n",
       "                            \n",
       "var gd = document.getElementById('782fcc52-166f-4c4d-9fca-8217c950cd1f');\n",
       "var x = new MutationObserver(function (mutations, observer) {{\n",
       "        var display = window.getComputedStyle(gd).display;\n",
       "        if (!display || display === 'none') {{\n",
       "            console.log([gd, 'removed!']);\n",
       "            Plotly.purge(gd);\n",
       "            observer.disconnect();\n",
       "        }}\n",
       "}});\n",
       "\n",
       "// Listen for the removal of the full notebook cells\n",
       "var notebookContainer = gd.closest('#notebook-container');\n",
       "if (notebookContainer) {{\n",
       "    x.observe(notebookContainer, {childList: true});\n",
       "}}\n",
       "\n",
       "// Listen for the clearing of the current output cell\n",
       "var outputEl = gd.closest('.output');\n",
       "if (outputEl) {{\n",
       "    x.observe(outputEl, {childList: true});\n",
       "}}\n",
       "\n",
       "                        })\n",
       "                };\n",
       "                });\n",
       "            </script>\n",
       "        </div>"
      ]
     },
     "metadata": {},
     "output_type": "display_data"
    }
   ],
   "source": [
    "fig = px.histogram(scores, x=scores.index, y=[\"Train\",'Test'], barmode='group',\n",
    "             height=400)\n",
    "\n",
    "fig.update_layout(\n",
    "    height=500,\n",
    "    title_text='Model Comparison (Train & Test Scores)',\n",
    "    title_x=0.5,\n",
    "    legend_title='',)\n",
    "\n",
    "fig.update_xaxes(title_text='Models')\n",
    "fig.update_yaxes(title_text='Accuracy Score',range=(scores['Test'].min()-0.05,scores['Train'].max()+0.05))\n",
    "                 \n",
    "fig.show()"
   ]
  },
  {
   "cell_type": "markdown",
   "metadata": {},
   "source": [
    "## 5. Hypertuning Models"
   ]
  },
  {
   "cell_type": "markdown",
   "metadata": {},
   "source": [
    "Performing gridsearch to identify what parameters can be modified in each model to optimize performance"
   ]
  },
  {
   "cell_type": "markdown",
   "metadata": {},
   "source": [
    "**Random Forest**"
   ]
  },
  {
   "cell_type": "code",
   "execution_count": 1071,
   "metadata": {},
   "outputs": [],
   "source": [
    "param_grid = {\n",
    "    'n_estimators': [50, 100, 200 ,400],\n",
    "    'criterion':['gini', 'entropy', 'log_loss'],\n",
    "    'max_features':['sqrt', 'log2', None],\n",
    "    'min_samples_split':[1,2,4,6]\n",
    "}\n",
    "\n",
    "\n",
    "rf1 = RandomForestClassifier()\n",
    "\n",
    "rf1grid_search = GridSearchCV(estimator = rf1,param_grid = param_grid, cv = 2 ,  \n",
    "                              n_jobs = -1, verbose = 2)"
   ]
  },
  {
   "cell_type": "code",
   "execution_count": 1072,
   "metadata": {},
   "outputs": [
    {
     "name": "stdout",
     "output_type": "stream",
     "text": [
      "Fitting 2 folds for each of 144 candidates, totalling 288 fits\n"
     ]
    },
    {
     "name": "stderr",
     "output_type": "stream",
     "text": [
      "[Parallel(n_jobs=-1)]: Using backend LokyBackend with 4 concurrent workers.\n",
      "[Parallel(n_jobs=-1)]: Done  33 tasks      | elapsed:   14.4s\n",
      "[Parallel(n_jobs=-1)]: Done 154 tasks      | elapsed:  1.2min\n",
      "[Parallel(n_jobs=-1)]: Done 288 out of 288 | elapsed:  2.0min finished\n"
     ]
    },
    {
     "data": {
      "text/plain": [
       "{'criterion': 'gini',\n",
       " 'max_features': None,\n",
       " 'min_samples_split': 6,\n",
       " 'n_estimators': 100}"
      ]
     },
     "execution_count": 1072,
     "metadata": {},
     "output_type": "execute_result"
    }
   ],
   "source": [
    "rf1grid_search.fit(X, y)\n",
    "rf1grid_search.best_params_"
   ]
  },
  {
   "cell_type": "code",
   "execution_count": 1073,
   "metadata": {},
   "outputs": [
    {
     "data": {
      "text/plain": [
       "RandomForestClassifier(max_features=None, min_samples_split=6)"
      ]
     },
     "execution_count": 1073,
     "metadata": {},
     "output_type": "execute_result"
    }
   ],
   "source": [
    "rf2 = RandomForestClassifier()\n",
    "rf2.set_params(**rf1grid_search.best_params_)"
   ]
  },
  {
   "cell_type": "markdown",
   "metadata": {},
   "source": [
    "**Gradient Boosting**"
   ]
  },
  {
   "cell_type": "code",
   "execution_count": 1074,
   "metadata": {},
   "outputs": [],
   "source": [
    "param_grid = {\n",
    "    'n_estimators': [25,50, 100, 175 ,250],\n",
    "    'max_depth': [2, 4,6,8],\n",
    "    'max_features': ['auto', 'sqrt', 'log2'],\n",
    "    'min_samples_leaf':[1,2,3]\n",
    "}\n",
    "\n",
    "\n",
    "gb1 = GradientBoostingClassifier()\n",
    "\n",
    "gb1grid_search = GridSearchCV(estimator = gb1, param_grid = param_grid, cv = 2 ,  \n",
    "                              n_jobs = -1, verbose = 2)"
   ]
  },
  {
   "cell_type": "code",
   "execution_count": 1075,
   "metadata": {},
   "outputs": [
    {
     "name": "stdout",
     "output_type": "stream",
     "text": [
      "Fitting 2 folds for each of 180 candidates, totalling 360 fits\n"
     ]
    },
    {
     "name": "stderr",
     "output_type": "stream",
     "text": [
      "[Parallel(n_jobs=-1)]: Using backend LokyBackend with 4 concurrent workers.\n",
      "[Parallel(n_jobs=-1)]: Done  33 tasks      | elapsed:    8.3s\n",
      "[Parallel(n_jobs=-1)]: Done 154 tasks      | elapsed:   42.4s\n",
      "[Parallel(n_jobs=-1)]: Done 360 out of 360 | elapsed:  2.9min finished\n"
     ]
    },
    {
     "data": {
      "text/plain": [
       "{'max_depth': 4,\n",
       " 'max_features': 'auto',\n",
       " 'min_samples_leaf': 2,\n",
       " 'n_estimators': 250}"
      ]
     },
     "execution_count": 1075,
     "metadata": {},
     "output_type": "execute_result"
    }
   ],
   "source": [
    "gb1grid_search.fit(X, y)\n",
    "gb1grid_search.best_params_"
   ]
  },
  {
   "cell_type": "code",
   "execution_count": 1076,
   "metadata": {},
   "outputs": [
    {
     "data": {
      "text/plain": [
       "GradientBoostingClassifier(max_depth=4, max_features='auto', min_samples_leaf=2,\n",
       "                           n_estimators=250)"
      ]
     },
     "execution_count": 1076,
     "metadata": {},
     "output_type": "execute_result"
    }
   ],
   "source": [
    "gb2 = GradientBoostingClassifier()\n",
    "gb2.set_params(**gb1grid_search.best_params_)"
   ]
  },
  {
   "cell_type": "markdown",
   "metadata": {},
   "source": [
    "**Adaptive Boosting**"
   ]
  },
  {
   "cell_type": "code",
   "execution_count": 1077,
   "metadata": {},
   "outputs": [],
   "source": [
    "param_grid = {\n",
    "    'base_estimator': [DecisionTreeClassifier(),LogisticRegression()],\n",
    "    'n_estimators': [25,50,100,150,200],\n",
    "    'learning_rate':[0.5,1,2,3]\n",
    "}\n",
    "\n",
    "ad1 = AdaBoostClassifier()\n",
    "\n",
    "ad1grid_search = GridSearchCV(estimator = ad1, param_grid = param_grid, cv = 2 ,  \n",
    "                              n_jobs = -1, verbose = 2)"
   ]
  },
  {
   "cell_type": "code",
   "execution_count": 1078,
   "metadata": {},
   "outputs": [
    {
     "name": "stdout",
     "output_type": "stream",
     "text": [
      "Fitting 2 folds for each of 40 candidates, totalling 80 fits\n"
     ]
    },
    {
     "name": "stderr",
     "output_type": "stream",
     "text": [
      "[Parallel(n_jobs=-1)]: Using backend LokyBackend with 4 concurrent workers.\n",
      "[Parallel(n_jobs=-1)]: Done  33 tasks      | elapsed:   24.5s\n",
      "[Parallel(n_jobs=-1)]: Done  80 out of  80 | elapsed:   53.1s finished\n"
     ]
    },
    {
     "data": {
      "text/plain": [
       "GridSearchCV(cv=2, estimator=AdaBoostClassifier(), n_jobs=-1,\n",
       "             param_grid={'base_estimator': [DecisionTreeClassifier(),\n",
       "                                            LogisticRegression()],\n",
       "                         'learning_rate': [0.5, 1, 2, 3],\n",
       "                         'n_estimators': [25, 50, 100, 150, 200]},\n",
       "             verbose=2)"
      ]
     },
     "execution_count": 1078,
     "metadata": {},
     "output_type": "execute_result"
    }
   ],
   "source": [
    "ad1grid_search.fit(X, y)"
   ]
  },
  {
   "cell_type": "code",
   "execution_count": 1079,
   "metadata": {},
   "outputs": [
    {
     "data": {
      "text/plain": [
       "{'base_estimator': LogisticRegression(),\n",
       " 'learning_rate': 2,\n",
       " 'n_estimators': 150}"
      ]
     },
     "execution_count": 1079,
     "metadata": {},
     "output_type": "execute_result"
    }
   ],
   "source": [
    "ad1grid_search.best_params_"
   ]
  },
  {
   "cell_type": "code",
   "execution_count": 1080,
   "metadata": {},
   "outputs": [
    {
     "data": {
      "text/plain": [
       "AdaBoostClassifier(base_estimator=LogisticRegression(), learning_rate=2,\n",
       "                   n_estimators=150)"
      ]
     },
     "execution_count": 1080,
     "metadata": {},
     "output_type": "execute_result"
    }
   ],
   "source": [
    "ad2 = AdaBoostClassifier()\n",
    "ad2.set_params(**ad1grid_search.best_params_)"
   ]
  },
  {
   "cell_type": "markdown",
   "metadata": {},
   "source": [
    "**LGBM**"
   ]
  },
  {
   "cell_type": "code",
   "execution_count": 1081,
   "metadata": {},
   "outputs": [],
   "source": [
    "param_grid = {\n",
    "    'boosting_type':['gbdt','dart','rf','goss'],\n",
    "    'n_leaves': [11,21,31,41,51],\n",
    "    'n_estimators': [50,100,150,200,400],\n",
    "    'learning_rate':[0.05,0.1,0.2,0.4]\n",
    "}\n",
    "\n",
    "lgb1 = lgb.LGBMClassifier()\n",
    "\n",
    "lgb1grid_search = GridSearchCV(estimator = lgb1, param_grid = param_grid, cv = 2 ,  \n",
    "                              n_jobs = -1, verbose = 2)"
   ]
  },
  {
   "cell_type": "code",
   "execution_count": 1082,
   "metadata": {},
   "outputs": [
    {
     "name": "stdout",
     "output_type": "stream",
     "text": [
      "Fitting 2 folds for each of 400 candidates, totalling 800 fits\n"
     ]
    },
    {
     "name": "stderr",
     "output_type": "stream",
     "text": [
      "[Parallel(n_jobs=-1)]: Using backend LokyBackend with 4 concurrent workers.\n",
      "[Parallel(n_jobs=-1)]: Done  33 tasks      | elapsed:    8.2s\n",
      "[Parallel(n_jobs=-1)]: Done 154 tasks      | elapsed:  1.1min\n",
      "[Parallel(n_jobs=-1)]: Done 357 tasks      | elapsed:  3.6min\n",
      "[Parallel(n_jobs=-1)]: Done 744 tasks      | elapsed:  4.6min\n",
      "[Parallel(n_jobs=-1)]: Done 800 out of 800 | elapsed:  4.8min finished\n"
     ]
    },
    {
     "data": {
      "text/plain": [
       "GridSearchCV(cv=2, estimator=LGBMClassifier(), n_jobs=-1,\n",
       "             param_grid={'boosting_type': ['gbdt', 'dart', 'rf', 'goss'],\n",
       "                         'learning_rate': [0.05, 0.1, 0.2, 0.4],\n",
       "                         'n_estimators': [50, 100, 150, 200, 400],\n",
       "                         'n_leaves': [11, 21, 31, 41, 51]},\n",
       "             verbose=2)"
      ]
     },
     "execution_count": 1082,
     "metadata": {},
     "output_type": "execute_result"
    }
   ],
   "source": [
    "lgb1grid_search.fit(X, y)"
   ]
  },
  {
   "cell_type": "code",
   "execution_count": 1083,
   "metadata": {},
   "outputs": [
    {
     "data": {
      "text/plain": [
       "{'boosting_type': 'gbdt',\n",
       " 'learning_rate': 0.05,\n",
       " 'n_estimators': 150,\n",
       " 'n_leaves': 11}"
      ]
     },
     "execution_count": 1083,
     "metadata": {},
     "output_type": "execute_result"
    }
   ],
   "source": [
    "lgb1grid_search.best_params_"
   ]
  },
  {
   "cell_type": "code",
   "execution_count": 1084,
   "metadata": {},
   "outputs": [
    {
     "data": {
      "text/plain": [
       "LGBMClassifier(learning_rate=0.05, n_estimators=150, n_leaves=11)"
      ]
     },
     "execution_count": 1084,
     "metadata": {},
     "output_type": "execute_result"
    }
   ],
   "source": [
    "lgb2 = lgb.LGBMClassifier()\n",
    "lgb2.set_params(**lgb1grid_search.best_params_)"
   ]
  },
  {
   "cell_type": "markdown",
   "metadata": {},
   "source": [
    "**Catboost**"
   ]
  },
  {
   "cell_type": "code",
   "execution_count": 1085,
   "metadata": {},
   "outputs": [],
   "source": [
    "param_grid = {#'loss_function':['Logloss','CrossEntropy','Accuracy','AUC'],\n",
    "              'depth'  : [4,6,8],\n",
    "              'learning_rate' : [0.01,0.03,0.1],\n",
    "              #'iterations'    : [500, 1000,1500]\n",
    "                 }\n",
    "cat1 = CatBoostClassifier(verbose=False)\n",
    "\n",
    "cat1grid_search = GridSearchCV(estimator = cat1, param_grid = param_grid, cv = 2 ,  \n",
    "                              n_jobs = -1, verbose = 2)"
   ]
  },
  {
   "cell_type": "code",
   "execution_count": 1086,
   "metadata": {},
   "outputs": [
    {
     "name": "stdout",
     "output_type": "stream",
     "text": [
      "Fitting 2 folds for each of 9 candidates, totalling 18 fits\n"
     ]
    },
    {
     "name": "stderr",
     "output_type": "stream",
     "text": [
      "[Parallel(n_jobs=-1)]: Using backend LokyBackend with 4 concurrent workers.\n",
      "[Parallel(n_jobs=-1)]: Done  18 out of  18 | elapsed:   38.2s finished\n"
     ]
    },
    {
     "data": {
      "text/plain": [
       "GridSearchCV(cv=2,\n",
       "             estimator=<catboost.core.CatBoostClassifier object at 0x7fc4c669b150>,\n",
       "             n_jobs=-1,\n",
       "             param_grid={'depth': [4, 6, 8],\n",
       "                         'learning_rate': [0.01, 0.03, 0.1]},\n",
       "             verbose=2)"
      ]
     },
     "execution_count": 1086,
     "metadata": {},
     "output_type": "execute_result"
    }
   ],
   "source": [
    "cat1grid_search.fit(X, y)"
   ]
  },
  {
   "cell_type": "code",
   "execution_count": 1087,
   "metadata": {},
   "outputs": [
    {
     "data": {
      "text/plain": [
       "{'depth': 6, 'learning_rate': 0.03}"
      ]
     },
     "execution_count": 1087,
     "metadata": {},
     "output_type": "execute_result"
    }
   ],
   "source": [
    "cat1grid_search.best_params_"
   ]
  },
  {
   "cell_type": "code",
   "execution_count": 1088,
   "metadata": {},
   "outputs": [
    {
     "data": {
      "text/plain": [
       "<catboost.core.CatBoostClassifier at 0x7fc4ca045490>"
      ]
     },
     "execution_count": 1088,
     "metadata": {},
     "output_type": "execute_result"
    }
   ],
   "source": [
    "cat2 = CatBoostClassifier(verbose=False)\n",
    "cat2.set_params(**cat1grid_search.best_params_)"
   ]
  },
  {
   "cell_type": "markdown",
   "metadata": {},
   "source": [
    "**Xgboost**"
   ]
  },
  {
   "cell_type": "code",
   "execution_count": 1089,
   "metadata": {},
   "outputs": [],
   "source": [
    "param_grid = {\n",
    "    'n_estimators':[50,100,200,400],\n",
    "    'gamma': [0,0.1,0.2],\n",
    "    'max_depth': [4,6,8,10],\n",
    "    'learning_rate':[0.01,0.2,0.300000012,0.5]\n",
    "}\n",
    "\n",
    "xgb1 = XGBClassifier(verbosity = 0)\n",
    "\n",
    "xgb1grid_search = GridSearchCV(estimator = xgb1, param_grid = param_grid, cv = 2 ,  \n",
    "                              n_jobs = -1, verbose = 2)"
   ]
  },
  {
   "cell_type": "code",
   "execution_count": 1090,
   "metadata": {},
   "outputs": [
    {
     "name": "stdout",
     "output_type": "stream",
     "text": [
      "Fitting 2 folds for each of 192 candidates, totalling 384 fits\n"
     ]
    },
    {
     "name": "stderr",
     "output_type": "stream",
     "text": [
      "[Parallel(n_jobs=-1)]: Using backend LokyBackend with 4 concurrent workers.\n",
      "/Users/adamtassabehji/opt/anaconda3/lib/python3.7/site-packages/joblib/externals/loky/process_executor.py:706: UserWarning:\n",
      "\n",
      "A worker stopped while some jobs were given to the executor. This can be caused by a too short worker timeout or by a memory leak.\n",
      "\n",
      "[Parallel(n_jobs=-1)]: Done  33 tasks      | elapsed:   40.3s\n",
      "[Parallel(n_jobs=-1)]: Done 154 tasks      | elapsed:  2.9min\n",
      "[Parallel(n_jobs=-1)]: Done 357 tasks      | elapsed:  6.5min\n",
      "[Parallel(n_jobs=-1)]: Done 384 out of 384 | elapsed:  7.1min finished\n"
     ]
    },
    {
     "data": {
      "text/plain": [
       "GridSearchCV(cv=2,\n",
       "             estimator=XGBClassifier(base_score=None, booster=None,\n",
       "                                     colsample_bylevel=None,\n",
       "                                     colsample_bynode=None,\n",
       "                                     colsample_bytree=None, gamma=None,\n",
       "                                     gpu_id=None, importance_type='gain',\n",
       "                                     interaction_constraints=None,\n",
       "                                     learning_rate=None, max_delta_step=None,\n",
       "                                     max_depth=None, min_child_weight=None,\n",
       "                                     missing=nan, monotone_constraints=None,\n",
       "                                     n_estimators=100, n_jobs=None,\n",
       "                                     num_parallel_tree=None, random_state=None,\n",
       "                                     reg_alpha=None, reg_lambda=None,\n",
       "                                     scale_pos_weight=None, subsample=None,\n",
       "                                     tree_method=None, validate_parameters=None,\n",
       "                                     verbosity=0),\n",
       "             n_jobs=-1,\n",
       "             param_grid={'gamma': [0, 0.1, 0.2],\n",
       "                         'learning_rate': [0.01, 0.2, 0.300000012, 0.5],\n",
       "                         'max_depth': [4, 6, 8, 10],\n",
       "                         'n_estimators': [50, 100, 200, 400]},\n",
       "             verbose=2)"
      ]
     },
     "execution_count": 1090,
     "metadata": {},
     "output_type": "execute_result"
    }
   ],
   "source": [
    "xgb1grid_search.fit(X, y)"
   ]
  },
  {
   "cell_type": "code",
   "execution_count": 1091,
   "metadata": {},
   "outputs": [
    {
     "data": {
      "text/plain": [
       "{'gamma': 0.2, 'learning_rate': 0.2, 'max_depth': 6, 'n_estimators': 50}"
      ]
     },
     "execution_count": 1091,
     "metadata": {},
     "output_type": "execute_result"
    }
   ],
   "source": [
    "xgb1grid_search.best_params_"
   ]
  },
  {
   "cell_type": "code",
   "execution_count": 1092,
   "metadata": {},
   "outputs": [
    {
     "data": {
      "text/plain": [
       "XGBClassifier(base_score=None, booster=None, colsample_bylevel=None,\n",
       "              colsample_bynode=None, colsample_bytree=None, gamma=0.2,\n",
       "              gpu_id=None, importance_type='gain', interaction_constraints=None,\n",
       "              learning_rate=0.2, max_delta_step=None, max_depth=6,\n",
       "              min_child_weight=None, missing=nan, monotone_constraints=None,\n",
       "              n_estimators=50, n_jobs=None, num_parallel_tree=None,\n",
       "              random_state=None, reg_alpha=None, reg_lambda=None,\n",
       "              scale_pos_weight=None, subsample=None, tree_method=None,\n",
       "              validate_parameters=None, verbosity=None)"
      ]
     },
     "execution_count": 1092,
     "metadata": {},
     "output_type": "execute_result"
    }
   ],
   "source": [
    "xgb2 = XGBClassifier()\n",
    "xgb2.set_params(**xgb1grid_search.best_params_)"
   ]
  },
  {
   "cell_type": "markdown",
   "metadata": {},
   "source": [
    "**Hyper-Tuned Models**"
   ]
  },
  {
   "cell_type": "code",
   "execution_count": 1093,
   "metadata": {},
   "outputs": [
    {
     "name": "stdout",
     "output_type": "stream",
     "text": [
      "LogisticRegression(max_iter=10000)\n",
      "Train model score: 0.799\n",
      "Test model Score: 0.808\n",
      "\n",
      "\n",
      "RandomForestClassifier(max_features=None, min_samples_split=6)\n",
      "Train model score: 0.909\n",
      "Test model Score: 0.806\n",
      "\n",
      "\n",
      "GradientBoostingClassifier(max_depth=4, max_features='auto', min_samples_leaf=2,\n",
      "                           n_estimators=250)\n",
      "Train model score: 0.859\n",
      "Test model Score: 0.803\n",
      "\n",
      "\n",
      "AdaBoostClassifier(base_estimator=LogisticRegression(), learning_rate=2,\n",
      "                   n_estimators=150)\n",
      "Train model score: 0.795\n",
      "Test model Score: 0.799\n",
      "\n",
      "\n",
      "LGBMClassifier(learning_rate=0.05, n_estimators=150, n_leaves=11)\n",
      "Train model score: 0.847\n",
      "Test model Score: 0.811\n",
      "\n",
      "\n",
      "<catboost.core.CatBoostClassifier object at 0x7fc4ca045490>\n",
      "Train model score: 0.855\n",
      "Test model Score: 0.813\n",
      "\n",
      "\n",
      "XGBClassifier(base_score=0.5, booster='gbtree', colsample_bylevel=1,\n",
      "              colsample_bynode=1, colsample_bytree=1, gamma=0.2, gpu_id=-1,\n",
      "              importance_type='gain', interaction_constraints='',\n",
      "              learning_rate=0.2, max_delta_step=0, max_depth=6,\n",
      "              min_child_weight=1, missing=nan, monotone_constraints='()',\n",
      "              n_estimators=50, n_jobs=0, num_parallel_tree=1, random_state=0,\n",
      "              reg_alpha=0, reg_lambda=1, scale_pos_weight=1, subsample=1,\n",
      "              tree_method='exact', validate_parameters=1, verbosity=None)\n",
      "Train model score: 0.840\n",
      "Test model Score: 0.808\n",
      "\n",
      "\n"
     ]
    }
   ],
   "source": [
    "train_scores2=[]\n",
    "test_scores2=[]\n",
    "lr=LogisticRegression(max_iter=10000)\n",
    "\n",
    "classifiers = [lr,rf2,gb2,ad2,lgb2,cat2,xgb2]\n",
    "\n",
    "for classifier in classifiers:\n",
    "    classifier.fit(X_train, y_train) \n",
    "    y_pred=classifier.predict(X_test)\n",
    "    print(classifier)\n",
    "    print(\"Train model score: %.3f\" % classifier.score(X_train, y_train))\n",
    "    print(\"Test model Score: %.3f\" % classifier.score(X_test, y_test))\n",
    "    train_scores2.append(classifier.score(X_train, y_train))\n",
    "    test_scores2.append(classifier.score(X_test, y_test))\n",
    "    print(\"\\n\")"
   ]
  },
  {
   "cell_type": "code",
   "execution_count": 1094,
   "metadata": {},
   "outputs": [
    {
     "data": {
      "text/html": [
       "<div>\n",
       "<style scoped>\n",
       "    .dataframe tbody tr th:only-of-type {\n",
       "        vertical-align: middle;\n",
       "    }\n",
       "\n",
       "    .dataframe tbody tr th {\n",
       "        vertical-align: top;\n",
       "    }\n",
       "\n",
       "    .dataframe thead th {\n",
       "        text-align: right;\n",
       "    }\n",
       "</style>\n",
       "<table border=\"1\" class=\"dataframe\">\n",
       "  <thead>\n",
       "    <tr style=\"text-align: right;\">\n",
       "      <th></th>\n",
       "      <th>Pre_tuning</th>\n",
       "      <th>Post_tuning</th>\n",
       "      <th>Improvement (%)</th>\n",
       "    </tr>\n",
       "  </thead>\n",
       "  <tbody>\n",
       "    <tr>\n",
       "      <th>LogisticRegression</th>\n",
       "      <td>0.807515</td>\n",
       "      <td>0.807515</td>\n",
       "      <td>0.00</td>\n",
       "    </tr>\n",
       "    <tr>\n",
       "      <th>RandomForestClassifier</th>\n",
       "      <td>0.797546</td>\n",
       "      <td>0.805598</td>\n",
       "      <td>1.01</td>\n",
       "    </tr>\n",
       "    <tr>\n",
       "      <th>GradientBoostingClassifier</th>\n",
       "      <td>0.799463</td>\n",
       "      <td>0.802531</td>\n",
       "      <td>0.38</td>\n",
       "    </tr>\n",
       "    <tr>\n",
       "      <th>AdaBoostClassifier</th>\n",
       "      <td>0.786426</td>\n",
       "      <td>0.799463</td>\n",
       "      <td>1.66</td>\n",
       "    </tr>\n",
       "    <tr>\n",
       "      <th>LGBMClassifier</th>\n",
       "      <td>0.808282</td>\n",
       "      <td>0.810966</td>\n",
       "      <td>0.33</td>\n",
       "    </tr>\n",
       "    <tr>\n",
       "      <th>CatBoostClassifier</th>\n",
       "      <td>0.812117</td>\n",
       "      <td>0.812883</td>\n",
       "      <td>0.09</td>\n",
       "    </tr>\n",
       "    <tr>\n",
       "      <th>XGBClassifier</th>\n",
       "      <td>0.804831</td>\n",
       "      <td>0.807515</td>\n",
       "      <td>0.33</td>\n",
       "    </tr>\n",
       "  </tbody>\n",
       "</table>\n",
       "</div>"
      ],
      "text/plain": [
       "                            Pre_tuning  Post_tuning  Improvement (%)\n",
       "LogisticRegression            0.807515     0.807515             0.00\n",
       "RandomForestClassifier        0.797546     0.805598             1.01\n",
       "GradientBoostingClassifier    0.799463     0.802531             0.38\n",
       "AdaBoostClassifier            0.786426     0.799463             1.66\n",
       "LGBMClassifier                0.808282     0.810966             0.33\n",
       "CatBoostClassifier            0.812117     0.812883             0.09\n",
       "XGBClassifier                 0.804831     0.807515             0.33"
      ]
     },
     "execution_count": 1094,
     "metadata": {},
     "output_type": "execute_result"
    }
   ],
   "source": [
    "scores=pd.DataFrame({\n",
    "    'Pre_tuning': test_scores1,\n",
    "    'Post_tuning':  test_scores2},index=models)\n",
    "\n",
    "scores['Improvement (%)']= round(((scores['Post_tuning']-scores['Pre_tuning'])/scores['Pre_tuning'])*100,2)\n",
    "\n",
    "scores"
   ]
  },
  {
   "cell_type": "markdown",
   "metadata": {},
   "source": [
    "## 6. Ensemble Methods and Deep Learning"
   ]
  },
  {
   "cell_type": "markdown",
   "metadata": {},
   "source": [
    "**Stacking**: Uses several model outputs to build a final model for prediction"
   ]
  },
  {
   "cell_type": "code",
   "execution_count": 1095,
   "metadata": {},
   "outputs": [
    {
     "name": "stdout",
     "output_type": "stream",
     "text": [
      "Accuracy: 0.8159509202453987\n"
     ]
    }
   ],
   "source": [
    "models = [('lr', lr),\n",
    "          ('rf', rf2),\n",
    "          ('gb',gb2),\n",
    "         ('ad',ad2),\n",
    "         ('lgb',lgb2),\n",
    "         ('cat',cat2),\n",
    "         ('xgb',xgb2)]\n",
    "\n",
    "sclf = StackingClassifier(estimators=models, final_estimator=LogisticRegression())\n",
    "\n",
    "sclf = sclf.fit(X_train, y_train)\n",
    "\n",
    "print(\"Accuracy:\",sclf.score(X_test, y_test))\n"
   ]
  },
  {
   "cell_type": "markdown",
   "metadata": {},
   "source": [
    "**Voting**: Uses several model outputs and decides a final prediction based on a majority vote"
   ]
  },
  {
   "cell_type": "code",
   "execution_count": 1096,
   "metadata": {},
   "outputs": [
    {
     "name": "stdout",
     "output_type": "stream",
     "text": [
      "Accuracy: 0.8121165644171779\n"
     ]
    }
   ],
   "source": [
    "models = [('lr', lr),\n",
    "          ('rf', rf2),\n",
    "          ('gb',gb2),\n",
    "         ('ad',ad2),\n",
    "         ('lgb',lgb2),\n",
    "         ('cat',cat2),\n",
    "         ('xgb',xgb2)]\n",
    "\n",
    "vclf = VotingClassifier(estimators=models,voting='soft')\n",
    "\n",
    "vclf = vclf.fit(X_train, y_train)\n",
    "\n",
    "print(\"Accuracy:\",vclf.score(X_test, y_test))"
   ]
  },
  {
   "cell_type": "markdown",
   "metadata": {},
   "source": [
    "**Deep Learning**"
   ]
  },
  {
   "cell_type": "code",
   "execution_count": 1097,
   "metadata": {},
   "outputs": [
    {
     "name": "stdout",
     "output_type": "stream",
     "text": [
      "Epoch 1/100\n",
      "12/12 [==============================] - 1s 100ms/step - loss: 0.8279 - binary_accuracy: 0.7044 - val_loss: 0.5368 - val_binary_accuracy: 0.6446\n",
      "Epoch 2/100\n",
      "12/12 [==============================] - 1s 82ms/step - loss: 0.5491 - binary_accuracy: 0.7487 - val_loss: 0.5410 - val_binary_accuracy: 0.6541\n",
      "Epoch 3/100\n",
      "12/12 [==============================] - 1s 94ms/step - loss: 0.5112 - binary_accuracy: 0.7599 - val_loss: 0.5284 - val_binary_accuracy: 0.6714\n",
      "Epoch 4/100\n",
      "12/12 [==============================] - 1s 101ms/step - loss: 0.4816 - binary_accuracy: 0.7699 - val_loss: 0.5327 - val_binary_accuracy: 0.6783\n",
      "Epoch 5/100\n",
      "12/12 [==============================] - 1s 83ms/step - loss: 0.4719 - binary_accuracy: 0.7739 - val_loss: 0.5199 - val_binary_accuracy: 0.7235\n",
      "Epoch 6/100\n",
      "12/12 [==============================] - 1s 98ms/step - loss: 0.4641 - binary_accuracy: 0.7740 - val_loss: 0.5273 - val_binary_accuracy: 0.7036\n",
      "Epoch 7/100\n",
      "12/12 [==============================] - 1s 117ms/step - loss: 0.4553 - binary_accuracy: 0.7813 - val_loss: 0.5104 - val_binary_accuracy: 0.7780\n",
      "Epoch 8/100\n",
      "12/12 [==============================] - 2s 132ms/step - loss: 0.4536 - binary_accuracy: 0.7686 - val_loss: 0.5253 - val_binary_accuracy: 0.7170\n",
      "Epoch 9/100\n",
      "12/12 [==============================] - 2s 154ms/step - loss: 0.4603 - binary_accuracy: 0.7730 - val_loss: 0.5158 - val_binary_accuracy: 0.7427\n",
      "Epoch 10/100\n",
      "12/12 [==============================] - 1s 116ms/step - loss: 0.4472 - binary_accuracy: 0.7795 - val_loss: 0.5151 - val_binary_accuracy: 0.7377\n",
      "Epoch 11/100\n",
      "12/12 [==============================] - 1s 100ms/step - loss: 0.4441 - binary_accuracy: 0.7826 - val_loss: 0.4931 - val_binary_accuracy: 0.8090\n",
      "Epoch 12/100\n",
      "12/12 [==============================] - 1s 80ms/step - loss: 0.4411 - binary_accuracy: 0.7775 - val_loss: 0.5014 - val_binary_accuracy: 0.7964\n",
      "Epoch 13/100\n",
      "12/12 [==============================] - 1s 79ms/step - loss: 0.4344 - binary_accuracy: 0.7855 - val_loss: 0.4911 - val_binary_accuracy: 0.8106\n",
      "Epoch 14/100\n",
      "12/12 [==============================] - 1s 80ms/step - loss: 0.4356 - binary_accuracy: 0.7865 - val_loss: 0.4861 - val_binary_accuracy: 0.8106\n",
      "Epoch 15/100\n",
      "12/12 [==============================] - 1s 79ms/step - loss: 0.4330 - binary_accuracy: 0.7824 - val_loss: 0.4886 - val_binary_accuracy: 0.8037\n",
      "Epoch 16/100\n",
      "12/12 [==============================] - 1s 103ms/step - loss: 0.4332 - binary_accuracy: 0.7877 - val_loss: 0.4781 - val_binary_accuracy: 0.8033\n",
      "Epoch 17/100\n",
      "12/12 [==============================] - 1s 77ms/step - loss: 0.4352 - binary_accuracy: 0.7864 - val_loss: 0.4747 - val_binary_accuracy: 0.8106\n",
      "Epoch 18/100\n",
      "12/12 [==============================] - 1s 76ms/step - loss: 0.4344 - binary_accuracy: 0.7855 - val_loss: 0.4829 - val_binary_accuracy: 0.8018\n",
      "Epoch 19/100\n",
      "12/12 [==============================] - 1s 80ms/step - loss: 0.4301 - binary_accuracy: 0.7867 - val_loss: 0.4711 - val_binary_accuracy: 0.8067\n",
      "Epoch 20/100\n",
      "12/12 [==============================] - 1s 88ms/step - loss: 0.4299 - binary_accuracy: 0.7869 - val_loss: 0.4756 - val_binary_accuracy: 0.8033\n",
      "Epoch 21/100\n",
      "12/12 [==============================] - 1s 79ms/step - loss: 0.4257 - binary_accuracy: 0.7862 - val_loss: 0.4655 - val_binary_accuracy: 0.8071\n",
      "Epoch 22/100\n",
      "12/12 [==============================] - 1s 81ms/step - loss: 0.4290 - binary_accuracy: 0.7850 - val_loss: 0.4518 - val_binary_accuracy: 0.8117\n",
      "Epoch 23/100\n",
      "12/12 [==============================] - 1s 84ms/step - loss: 0.4227 - binary_accuracy: 0.7944 - val_loss: 0.4605 - val_binary_accuracy: 0.8067\n",
      "Epoch 24/100\n",
      "12/12 [==============================] - 1s 79ms/step - loss: 0.4234 - binary_accuracy: 0.7867 - val_loss: 0.4509 - val_binary_accuracy: 0.8067\n",
      "Epoch 25/100\n",
      "12/12 [==============================] - 1s 79ms/step - loss: 0.4209 - binary_accuracy: 0.7906 - val_loss: 0.4433 - val_binary_accuracy: 0.7991\n",
      "Epoch 26/100\n",
      "12/12 [==============================] - 1s 85ms/step - loss: 0.4230 - binary_accuracy: 0.7900 - val_loss: 0.4465 - val_binary_accuracy: 0.8048\n",
      "Epoch 27/100\n",
      "12/12 [==============================] - 1s 81ms/step - loss: 0.4261 - binary_accuracy: 0.7910 - val_loss: 0.4389 - val_binary_accuracy: 0.8117\n",
      "Epoch 28/100\n",
      "12/12 [==============================] - 1s 85ms/step - loss: 0.4282 - binary_accuracy: 0.7900 - val_loss: 0.4351 - val_binary_accuracy: 0.8098\n",
      "Epoch 29/100\n",
      "12/12 [==============================] - 1s 90ms/step - loss: 0.4231 - binary_accuracy: 0.7938 - val_loss: 0.4357 - val_binary_accuracy: 0.8090\n",
      "Epoch 30/100\n",
      "12/12 [==============================] - 1s 84ms/step - loss: 0.4229 - binary_accuracy: 0.7893 - val_loss: 0.4306 - val_binary_accuracy: 0.8060\n",
      "Epoch 31/100\n",
      "12/12 [==============================] - 1s 81ms/step - loss: 0.4225 - binary_accuracy: 0.7910 - val_loss: 0.4291 - val_binary_accuracy: 0.8121\n",
      "Epoch 32/100\n",
      "12/12 [==============================] - 1s 84ms/step - loss: 0.4192 - binary_accuracy: 0.7984 - val_loss: 0.4281 - val_binary_accuracy: 0.8067\n",
      "Epoch 33/100\n",
      "12/12 [==============================] - 1s 81ms/step - loss: 0.4197 - binary_accuracy: 0.7941 - val_loss: 0.4223 - val_binary_accuracy: 0.8056\n",
      "Epoch 34/100\n",
      "12/12 [==============================] - 1s 84ms/step - loss: 0.4193 - binary_accuracy: 0.7900 - val_loss: 0.4203 - val_binary_accuracy: 0.8129\n",
      "Epoch 35/100\n",
      "12/12 [==============================] - 1s 99ms/step - loss: 0.4212 - binary_accuracy: 0.7941 - val_loss: 0.4173 - val_binary_accuracy: 0.8129\n",
      "Epoch 36/100\n",
      "12/12 [==============================] - 1s 102ms/step - loss: 0.4160 - binary_accuracy: 0.7974 - val_loss: 0.4160 - val_binary_accuracy: 0.8113\n",
      "Epoch 37/100\n",
      "12/12 [==============================] - 1s 84ms/step - loss: 0.4159 - binary_accuracy: 0.7944 - val_loss: 0.4134 - val_binary_accuracy: 0.8125\n",
      "Epoch 38/100\n",
      "12/12 [==============================] - 1s 83ms/step - loss: 0.4189 - binary_accuracy: 0.7967 - val_loss: 0.4125 - val_binary_accuracy: 0.8129\n",
      "Epoch 39/100\n",
      "12/12 [==============================] - 1s 106ms/step - loss: 0.4182 - binary_accuracy: 0.7921 - val_loss: 0.4134 - val_binary_accuracy: 0.8117\n",
      "Epoch 40/100\n",
      "12/12 [==============================] - 2s 132ms/step - loss: 0.4167 - binary_accuracy: 0.7967 - val_loss: 0.4094 - val_binary_accuracy: 0.8140\n",
      "Epoch 41/100\n",
      "12/12 [==============================] - 1s 120ms/step - loss: 0.4161 - binary_accuracy: 0.7997 - val_loss: 0.4082 - val_binary_accuracy: 0.8106\n",
      "Epoch 42/100\n",
      "12/12 [==============================] - 2s 131ms/step - loss: 0.4194 - binary_accuracy: 0.7959 - val_loss: 0.4077 - val_binary_accuracy: 0.8129\n",
      "Epoch 43/100\n",
      "12/12 [==============================] - 1s 87ms/step - loss: 0.4164 - binary_accuracy: 0.7944 - val_loss: 0.4062 - val_binary_accuracy: 0.8117\n",
      "Epoch 44/100\n",
      "12/12 [==============================] - 1s 88ms/step - loss: 0.4150 - binary_accuracy: 0.7944 - val_loss: 0.4062 - val_binary_accuracy: 0.8137\n",
      "Epoch 45/100\n",
      "12/12 [==============================] - 1s 97ms/step - loss: 0.4191 - binary_accuracy: 0.7928 - val_loss: 0.4045 - val_binary_accuracy: 0.8137\n",
      "Epoch 46/100\n",
      "12/12 [==============================] - 2s 131ms/step - loss: 0.4143 - binary_accuracy: 0.7972 - val_loss: 0.4054 - val_binary_accuracy: 0.8133\n",
      "Epoch 47/100\n",
      "12/12 [==============================] - 2s 133ms/step - loss: 0.4164 - binary_accuracy: 0.7952 - val_loss: 0.4051 - val_binary_accuracy: 0.8110\n",
      "Epoch 48/100\n",
      "12/12 [==============================] - 1s 105ms/step - loss: 0.4127 - binary_accuracy: 0.7956 - val_loss: 0.4030 - val_binary_accuracy: 0.8113\n",
      "Epoch 49/100\n",
      "12/12 [==============================] - 1s 125ms/step - loss: 0.4151 - binary_accuracy: 0.7938 - val_loss: 0.4039 - val_binary_accuracy: 0.8121\n",
      "Epoch 50/100\n",
      "12/12 [==============================] - 1s 93ms/step - loss: 0.4149 - binary_accuracy: 0.7947 - val_loss: 0.4040 - val_binary_accuracy: 0.8113\n",
      "Epoch 51/100\n",
      "12/12 [==============================] - 1s 99ms/step - loss: 0.4182 - binary_accuracy: 0.7918 - val_loss: 0.4038 - val_binary_accuracy: 0.8075\n",
      "Epoch 52/100\n",
      "12/12 [==============================] - 1s 101ms/step - loss: 0.4142 - binary_accuracy: 0.8010 - val_loss: 0.4042 - val_binary_accuracy: 0.8102\n",
      "Epoch 53/100\n",
      "12/12 [==============================] - 1s 99ms/step - loss: 0.4147 - binary_accuracy: 0.7972 - val_loss: 0.4031 - val_binary_accuracy: 0.8129\n",
      "Epoch 54/100\n",
      "12/12 [==============================] - 1s 90ms/step - loss: 0.4143 - binary_accuracy: 0.7967 - val_loss: 0.4061 - val_binary_accuracy: 0.8052\n",
      "Epoch 55/100\n",
      "12/12 [==============================] - 2s 136ms/step - loss: 0.4161 - binary_accuracy: 0.7957 - val_loss: 0.4013 - val_binary_accuracy: 0.8121\n",
      "Epoch 56/100\n",
      "12/12 [==============================] - 1s 99ms/step - loss: 0.4141 - binary_accuracy: 0.7979 - val_loss: 0.4020 - val_binary_accuracy: 0.8129\n",
      "Epoch 57/100\n",
      "12/12 [==============================] - 1s 83ms/step - loss: 0.4131 - binary_accuracy: 0.7985 - val_loss: 0.4007 - val_binary_accuracy: 0.8140\n",
      "Epoch 58/100\n",
      "12/12 [==============================] - 1s 80ms/step - loss: 0.4141 - binary_accuracy: 0.8008 - val_loss: 0.4026 - val_binary_accuracy: 0.8102\n",
      "Epoch 59/100\n",
      "12/12 [==============================] - 1s 120ms/step - loss: 0.4136 - binary_accuracy: 0.7982 - val_loss: 0.4029 - val_binary_accuracy: 0.8117\n",
      "Epoch 60/100\n",
      "12/12 [==============================] - 2s 194ms/step - loss: 0.4129 - binary_accuracy: 0.7982 - val_loss: 0.4029 - val_binary_accuracy: 0.8071\n",
      "Epoch 61/100\n",
      "12/12 [==============================] - 2s 141ms/step - loss: 0.4125 - binary_accuracy: 0.7970 - val_loss: 0.4031 - val_binary_accuracy: 0.8121\n",
      "Epoch 62/100\n",
      "12/12 [==============================] - 2s 156ms/step - loss: 0.4167 - binary_accuracy: 0.7961 - val_loss: 0.4021 - val_binary_accuracy: 0.8133\n",
      "Epoch 63/100\n",
      "12/12 [==============================] - 2s 150ms/step - loss: 0.4164 - binary_accuracy: 0.7959 - val_loss: 0.4049 - val_binary_accuracy: 0.8098\n",
      "Epoch 64/100\n",
      "12/12 [==============================] - 2s 146ms/step - loss: 0.4086 - binary_accuracy: 0.7997 - val_loss: 0.4024 - val_binary_accuracy: 0.8102\n",
      "Epoch 65/100\n",
      "12/12 [==============================] - 1s 86ms/step - loss: 0.4094 - binary_accuracy: 0.7995 - val_loss: 0.4009 - val_binary_accuracy: 0.8083\n"
     ]
    }
   ],
   "source": [
    "model = keras.Sequential([\n",
    "    layers.BatchNormalization(input_shape=[X.shape[1]]),\n",
    "    layers.Dense(1024, activation='relu', input_shape=[X.shape[1]]),\n",
    "    layers.BatchNormalization(),\n",
    "    layers.Dropout(0.5),\n",
    "    layers.Dense(1024, activation='relu'),    \n",
    "    layers.BatchNormalization(),\n",
    "    layers.Dropout(0.5),\n",
    "    layers.Dense(1, activation='sigmoid'),\n",
    "])\n",
    "\n",
    "model.compile(\n",
    "    optimizer='adam',\n",
    "    loss='binary_crossentropy',\n",
    "    metrics=['binary_accuracy'],\n",
    ")\n",
    "\n",
    "early_stopping = keras.callbacks.EarlyStopping(\n",
    "    patience=10,\n",
    "    min_delta=0.001,\n",
    "    restore_best_weights=True,\n",
    ")\n",
    "\n",
    "\n",
    "history = model.fit(\n",
    "    X_train, y_train,\n",
    "    validation_data=(X_test, y_test),\n",
    "    batch_size=512,\n",
    "    epochs=100,\n",
    "    callbacks=[early_stopping],\n",
    ")"
   ]
  },
  {
   "cell_type": "code",
   "execution_count": 1098,
   "metadata": {},
   "outputs": [
    {
     "name": "stdout",
     "output_type": "stream",
     "text": [
      "Best Validation Loss: 0.4007\n",
      "Best Validation Accuracy: 0.8140\n"
     ]
    },
    {
     "data": {
      "image/png": "[encoded data removed]",
      "text/plain": [
       "<Figure size 432x288 with 1 Axes>"
      ]
     },
     "metadata": {
      "needs_background": "light"
     },
     "output_type": "display_data"
    },
    {
     "data": {
      "image/png": "[encoded data removed]",
      "text/plain": [
       "<Figure size 432x288 with 1 Axes>"
      ]
     },
     "metadata": {
      "needs_background": "light"
     },
     "output_type": "display_data"
    }
   ],
   "source": [
    "history_df = pd.DataFrame(history.history)\n",
    "# Start the plot at epoch 5\n",
    "history_df.loc[5:, ['loss', 'val_loss']].plot()\n",
    "history_df.loc[5:, ['binary_accuracy', 'val_binary_accuracy']].plot()\n",
    "\n",
    "print((\"Best Validation Loss: {:0.4f}\" +\\\n",
    "      \"\\nBest Validation Accuracy: {:0.4f}\")\\\n",
    "      .format(history_df['val_loss'].min(), \n",
    "              history_df['val_binary_accuracy'].max()))"
   ]
  },
  {
   "cell_type": "markdown",
   "metadata": {},
   "source": [
    "## 7. Final Model Selection"
   ]
  },
  {
   "cell_type": "code",
   "execution_count": 1099,
   "metadata": {},
   "outputs": [],
   "source": [
    "final=[lr,rf2,ad2,gb2,lgb2,cat2,xgb2,vclf,sclf]"
   ]
  },
  {
   "cell_type": "code",
   "execution_count": 1100,
   "metadata": {},
   "outputs": [],
   "source": [
    "final_models=['LR','RF','AD','GB','LGB','CAT','XGB','Vote','Stack','NN']\n",
    "final_scores=[]\n",
    "\n",
    "for x in final:\n",
    "    final_scores.append(x.score(X_test, y_test))\n",
    "\n",
    "\n",
    "final_scores.append(history_df['val_binary_accuracy'].max())\n",
    "\n",
    "final_summary=pd.DataFrame(final_scores,index=final_models,columns=['Score']).sort_values(by='Score',ascending=False)"
   ]
  },
  {
   "cell_type": "code",
   "execution_count": 1101,
   "metadata": {},
   "outputs": [
    {
     "data": {
      "text/html": [
       "<div>\n",
       "<style scoped>\n",
       "    .dataframe tbody tr th:only-of-type {\n",
       "        vertical-align: middle;\n",
       "    }\n",
       "\n",
       "    .dataframe tbody tr th {\n",
       "        vertical-align: top;\n",
       "    }\n",
       "\n",
       "    .dataframe thead th {\n",
       "        text-align: right;\n",
       "    }\n",
       "</style>\n",
       "<table border=\"1\" class=\"dataframe\">\n",
       "  <thead>\n",
       "    <tr style=\"text-align: right;\">\n",
       "      <th></th>\n",
       "      <th>Score</th>\n",
       "    </tr>\n",
       "  </thead>\n",
       "  <tbody>\n",
       "    <tr>\n",
       "      <th>Stack</th>\n",
       "      <td>0.815951</td>\n",
       "    </tr>\n",
       "    <tr>\n",
       "      <th>NN</th>\n",
       "      <td>0.814034</td>\n",
       "    </tr>\n",
       "    <tr>\n",
       "      <th>CAT</th>\n",
       "      <td>0.812883</td>\n",
       "    </tr>\n",
       "    <tr>\n",
       "      <th>Vote</th>\n",
       "      <td>0.812117</td>\n",
       "    </tr>\n",
       "    <tr>\n",
       "      <th>LGB</th>\n",
       "      <td>0.810966</td>\n",
       "    </tr>\n",
       "    <tr>\n",
       "      <th>LR</th>\n",
       "      <td>0.807515</td>\n",
       "    </tr>\n",
       "    <tr>\n",
       "      <th>XGB</th>\n",
       "      <td>0.807515</td>\n",
       "    </tr>\n",
       "    <tr>\n",
       "      <th>RF</th>\n",
       "      <td>0.805598</td>\n",
       "    </tr>\n",
       "    <tr>\n",
       "      <th>GB</th>\n",
       "      <td>0.802531</td>\n",
       "    </tr>\n",
       "    <tr>\n",
       "      <th>AD</th>\n",
       "      <td>0.799463</td>\n",
       "    </tr>\n",
       "  </tbody>\n",
       "</table>\n",
       "</div>"
      ],
      "text/plain": [
       "          Score\n",
       "Stack  0.815951\n",
       "NN     0.814034\n",
       "CAT    0.812883\n",
       "Vote   0.812117\n",
       "LGB    0.810966\n",
       "LR     0.807515\n",
       "XGB    0.807515\n",
       "RF     0.805598\n",
       "GB     0.802531\n",
       "AD     0.799463"
      ]
     },
     "execution_count": 1101,
     "metadata": {},
     "output_type": "execute_result"
    }
   ],
   "source": [
    "final_summary"
   ]
  },
  {
   "cell_type": "code",
   "execution_count": 1102,
   "metadata": {},
   "outputs": [
    {
     "name": "stdout",
     "output_type": "stream",
     "text": [
      "The best performing model is Stack with score of 0.8159509202453987\n"
     ]
    }
   ],
   "source": [
    "print(f'''The best performing model is {final_summary.index[0]} with score of {final_summary.iloc[0,0]}''')"
   ]
  },
  {
   "cell_type": "markdown",
   "metadata": {},
   "source": [
    "## 8. Final Submission"
   ]
  },
  {
   "cell_type": "code",
   "execution_count": 1103,
   "metadata": {},
   "outputs": [],
   "source": [
    "X_train=labelled[predictors]\n",
    "\n",
    "y_train=y\n",
    "\n",
    "X_test=submissiontest[predictors]"
   ]
  },
  {
   "cell_type": "code",
   "execution_count": 1104,
   "metadata": {},
   "outputs": [],
   "source": [
    "scaler = StandardScaler()\n",
    "scaler.fit(X_train)\n",
    "X_train=pd.DataFrame(scaler.transform(X_train),index=X_train.index, columns=X_train.columns)"
   ]
  },
  {
   "cell_type": "code",
   "execution_count": 1105,
   "metadata": {},
   "outputs": [],
   "source": [
    "scaler = StandardScaler()\n",
    "scaler.fit(X_test)\n",
    "X_test=pd.DataFrame(scaler.transform(X_test),index=X_test.index, columns=X_test.columns)"
   ]
  },
  {
   "cell_type": "code",
   "execution_count": 1114,
   "metadata": {},
   "outputs": [],
   "source": [
    "sclf.fit(X_train, y_train)\n",
    "y_pred=sclf.predict(X_test)\n",
    "\n",
    "#y_pred = np.round(model.predict(X_test),0)"
   ]
  },
  {
   "cell_type": "code",
   "execution_count": 1115,
   "metadata": {},
   "outputs": [],
   "source": [
    "submission=pd.DataFrame(y_pred.astype(bool),index=X_test.index).rename(columns={0: \"Transported\"})"
   ]
  },
  {
   "cell_type": "code",
   "execution_count": 1117,
   "metadata": {},
   "outputs": [],
   "source": [
    "submission.to_csv('Submission_final.csv')"
   ]
  },
  {
   "cell_type": "code",
   "execution_count": 1110,
   "metadata": {},
   "outputs": [
    {
     "name": "stdout",
     "output_type": "stream",
     "text": [
      "Time:  24.91508877861667\n"
     ]
    }
   ],
   "source": [
    "#Your statements here\n",
    "\n",
    "stop = timeit.default_timer()\n",
    "\n",
    "print('Time: ', (stop - start)/60 ) \n",
    "\n",
    "beep.beep(4)"
   ]
  },
  {
   "cell_type": "code",
   "execution_count": null,
   "metadata": {},
   "outputs": [],
   "source": []
  }
 ],
 "metadata": {
  "kernelspec": {
   "display_name": "Python 3 (ipykernel)",
   "language": "python",
   "name": "python3"
  },
  "language_info": {
   "codemirror_mode": {
    "name": "ipython",
    "version": 3
   },
   "file_extension": ".py",
   "mimetype": "text/x-python",
   "name": "python",
   "nbconvert_exporter": "python",
   "pygments_lexer": "ipython3",
   "version": "3.9.12"
  }
 },
 "nbformat": 4,
 "nbformat_minor": 2
}
